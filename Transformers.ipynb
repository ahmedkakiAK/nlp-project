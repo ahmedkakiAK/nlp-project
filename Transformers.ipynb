{
 "cells": [
  {
   "cell_type": "markdown",
   "id": "88a47e81",
   "metadata": {},
   "source": [
    "# Premier entraînement sur les données Kaggle (binaire)"
   ]
  },
  {
   "cell_type": "code",
   "execution_count": null,
   "id": "d0168127",
   "metadata": {},
   "outputs": [],
   "source": [
    "import pandas as pd\n",
    "import numpy as np\n",
    "import matplotlib.pyplot as plt\n",
    "\n",
    "import torch\n",
    "from torch.utils.data import Dataset, DataLoader\n",
    "import torch.nn as nn\n",
    "import torch.nn.functional as F\n",
    "from torch.nn.utils.rnn import pad_sequence\n",
    "\n",
    "from collections import Counter\n",
    "from sklearn.metrics import classification_report\n",
    "from sklearn.metrics import mean_squared_error\n",
    "\n",
    "\n"
   ]
  },
  {
   "cell_type": "code",
   "execution_count": 7,
   "id": "369f87d2",
   "metadata": {},
   "outputs": [],
   "source": [
    "MAX_VOCAB_SIZE = 20000  # Taille du vocabulaire max\n",
    "MAX_LEN = 256           # Longueur max des séquences\n",
    "EMBED_DIM = 100         # Dimension des embeddings\n",
    "HIDDEN_DIM = 128        # Taille des couches LSTM\n",
    "BATCH_SIZE = 16         # Taille des batchs\n",
    "EPOCHS = 10              # Nombre d'époques"
   ]
  },
  {
   "cell_type": "code",
   "execution_count": 8,
   "id": "14e4b6d7",
   "metadata": {},
   "outputs": [],
   "source": [
    "# Load datasets\n",
    "train_df_kaggle = pd.read_csv(\"data/kaggle/preprocessed/train.csv\")\n",
    "test_df_kaggle = pd.read_csv(\"data/kaggle/preprocessed/test.csv\")"
   ]
  },
  {
   "cell_type": "code",
   "execution_count": 9,
   "id": "231d399c",
   "metadata": {},
   "outputs": [],
   "source": [
    "def tokenize(text):\n",
    "    return text.split()\n",
    "\n",
    "def encode(vocab, text):\n",
    "    return [vocab.get(tok, 1) for tok in tokenize(text)[:MAX_LEN]]"
   ]
  },
  {
   "cell_type": "code",
   "execution_count": 10,
   "id": "e761020b",
   "metadata": {},
   "outputs": [],
   "source": [
    "# Build vocabulary\n",
    "counter_kaggle = Counter()\n",
    "for text in train_df_kaggle[\"text\"]:\n",
    "    tokens_kaggle = tokenize(text)\n",
    "    counter_kaggle.update(tokens_kaggle)\n",
    "\n",
    "most_common_kaggle = counter_kaggle.most_common(MAX_VOCAB_SIZE - 2)\n",
    "vocab_kaggle = {\"<PAD>\": 0, \"<UNK>\": 1}\n",
    "for i, (word, _) in enumerate(most_common_kaggle, start=2):\n",
    "    vocab_kaggle[word] = i"
   ]
  },
  {
   "cell_type": "code",
   "execution_count": 11,
   "id": "adb1b58b",
   "metadata": {},
   "outputs": [],
   "source": [
    "# Custom Dataset\n",
    "class TextDataset(Dataset):\n",
    "    def __init__(self, df, vocab, max_len=512):\n",
    "        self.texts = [torch.tensor(encode(vocab, text), dtype=torch.long) for text in df[\"text\"]]\n",
    "        self.labels = torch.tensor(df[\"label\"].values, dtype=torch.long)\n",
    "        self.max_len = max_len\n",
    "\n",
    "    def __len__(self):\n",
    "        return len(self.labels)\n",
    "\n",
    "    def __getitem__(self, idx):\n",
    "        text = self.texts[idx]\n",
    "        label = self.labels[idx]\n",
    "        \n",
    "        # Create attention mask\n",
    "        attention_mask = torch.ones_like(text)  # 1 for real tokens, 0 for padding\n",
    "        \n",
    "        # Ensure the text is of max_len\n",
    "        if len(text) > self.max_len:\n",
    "            text = text[:self.max_len]\n",
    "            attention_mask = attention_mask[:self.max_len]\n",
    "        else:\n",
    "            # Padding\n",
    "            padding_length = self.max_len - len(text)\n",
    "            text = torch.cat([text, torch.zeros(padding_length, dtype=torch.long)], dim=0)\n",
    "            attention_mask = torch.cat([attention_mask, torch.zeros(padding_length, dtype=torch.long)], dim=0)\n",
    "\n",
    "        return {\n",
    "            \"input_ids\": text,\n",
    "            \"attention_mask\": attention_mask,\n",
    "            \"labels\": label\n",
    "        }"
   ]
  },
  {
   "cell_type": "code",
   "execution_count": 12,
   "id": "e8cfbbf6",
   "metadata": {},
   "outputs": [],
   "source": [
    "def collate_fn(batch):\n",
    "    # Sort batch by length for packing\n",
    "    texts = [item[\"input_ids\"] for item in batch]\n",
    "    labels = [item[\"labels\"] for item in batch]\n",
    "    attention_masks = [item[\"attention_mask\"] for item in batch]\n",
    "    \n",
    "    # Pad sequences\n",
    "    texts = pad_sequence(texts, batch_first=True, padding_value=0)\n",
    "    attention_masks = pad_sequence(attention_masks, batch_first=True, padding_value=0)\n",
    "    \n",
    "    # Convert labels to tensor\n",
    "    labels = torch.tensor(labels)\n",
    "    \n",
    "    # Return a dictionary\n",
    "    return {\n",
    "        \"input_ids\": texts,\n",
    "        \"attention_mask\": attention_masks,\n",
    "        \"labels\": labels\n",
    "    }"
   ]
  },
  {
   "cell_type": "code",
   "execution_count": 13,
   "id": "b6e3eabe",
   "metadata": {},
   "outputs": [],
   "source": [
    "# DataLoaders\n",
    "train_ds_kaggle = TextDataset(train_df_kaggle, vocab_kaggle)\n",
    "test_ds_kaggle = TextDataset(test_df_kaggle, vocab_kaggle)\n",
    "\n",
    "train_loader_kaggle = DataLoader(train_ds_kaggle, batch_size=32, shuffle=True, collate_fn=collate_fn)\n",
    "test_loader_kaggle = DataLoader(test_ds_kaggle, batch_size=32, collate_fn=collate_fn)"
   ]
  },
  {
   "cell_type": "code",
   "execution_count": 14,
   "id": "7dad6ba9",
   "metadata": {},
   "outputs": [],
   "source": [
    "class TransformerClassifier(nn.Module):\n",
    "    def __init__(self, vocab_size, embed_dim, num_heads, hidden_dim, num_layers, output_dim, max_len=512, dropout=0.1):\n",
    "        super().__init__()\n",
    "        self.embedding = nn.Embedding(vocab_size, embed_dim)\n",
    "        self.positional_encoding = self._generate_positional_encoding(max_len, embed_dim)\n",
    "        self.dropout = nn.Dropout(dropout)\n",
    "\n",
    "        encoder_layer = nn.TransformerEncoderLayer(d_model=embed_dim, nhead=num_heads, dim_feedforward=hidden_dim, dropout=dropout, batch_first=True)\n",
    "        self.transformer_encoder = nn.TransformerEncoder(encoder_layer, num_layers=num_layers)\n",
    "\n",
    "        self.fc = nn.Linear(embed_dim, output_dim)\n",
    "\n",
    "    def forward(self, input_ids, attention_mask=None):\n",
    "        x = self.embedding(input_ids) + self.positional_encoding[:input_ids.size(1)].unsqueeze(0).to(input_ids.device)\n",
    "        x = self.dropout(x)\n",
    "\n",
    "        if attention_mask is not None:\n",
    "            # Transformer expects 0 for attend, -inf for mask; convert accordingly\n",
    "            mask = (attention_mask == 0).to(torch.bool)\n",
    "        else:\n",
    "            mask = None\n",
    "\n",
    "        x = self.transformer_encoder(x, src_key_padding_mask=mask)\n",
    "        cls_output = x[:, 0, :]  # Use first token ([CLS]-like)\n",
    "        return self.fc(cls_output)\n",
    "\n",
    "    def _generate_positional_encoding(self, max_len, d_model):\n",
    "        pe = torch.zeros(max_len, d_model)\n",
    "        position = torch.arange(0, max_len, dtype=torch.float).unsqueeze(1)\n",
    "        div_term = torch.exp(torch.arange(0, d_model, 2).float() * (-torch.log(torch.tensor(10000.0)) / d_model))\n",
    "        pe[:, 0::2] = torch.sin(position * div_term)\n",
    "        pe[:, 1::2] = torch.cos(position * div_term)\n",
    "        return pe\n"
   ]
  },
  {
   "cell_type": "code",
   "execution_count": 15,
   "id": "759bcfc0",
   "metadata": {},
   "outputs": [
    {
     "name": "stdout",
     "output_type": "stream",
     "text": [
      "Using device: cuda\n"
     ]
    }
   ],
   "source": [
    "# Device configuration\n",
    "device = torch.device(\"cuda\" if torch.cuda.is_available() else \"cpu\")\n",
    "print(f\"Using device: {device}\")\n",
    "# Initialize model"
   ]
  },
  {
   "cell_type": "code",
   "execution_count": null,
   "id": "080405ba",
   "metadata": {},
   "outputs": [],
   "source": [
    "# Model\n",
    "model_kaggle = TransformerClassifier(\n",
    "    vocab_size=MAX_VOCAB_SIZE,\n",
    "    embed_dim=EMBED_DIM, \n",
    "    hidden_dim=HIDDEN_DIM, \n",
    "    num_heads=2,\n",
    "    num_layers=2,\n",
    "    output_dim=len(train_df_kaggle[\"label\"].unique())\n",
    ")\n",
    "model_kaggle = model_kaggle.to(device)\n",
    "\n",
    "# Optimizer / Loss\n",
    "optimizer_kaggle = torch.optim.AdamW(model_kaggle.parameters(), lr=1e-3)\n",
    "criterion = nn.CrossEntropyLoss()\n",
    "\n",
    "# Training\n",
    "for epoch in range(20):\n",
    "    model_kaggle.train()\n",
    "    total_loss = 0\n",
    "    for batch in train_loader_kaggle:\n",
    "        input_ids = batch['input_ids'].to(device)\n",
    "        attention_mask = batch['attention_mask'].to(device)\n",
    "        labels = batch['labels'].to(device)\n",
    "\n",
    "        optimizer_kaggle.zero_grad()\n",
    "        outputs = model_kaggle(input_ids, attention_mask)\n",
    "        loss = criterion(outputs, labels)\n",
    "        loss.backward()\n",
    "        optimizer_kaggle.step()\n",
    "        total_loss += loss.item()\n",
    "        mean_loss = total_loss/len(train_loader_kaggle)\n",
    "    print(f\"Epoch {epoch+1} Loss_Total: {total_loss:.4f}; Mean_Loss: {mean_loss:.4f}\")\n"
   ]
  },
  {
   "cell_type": "code",
   "execution_count": null,
   "id": "7c50b9cb",
   "metadata": {},
   "outputs": [
    {
     "name": "stderr",
     "output_type": "stream",
     "text": [
      "/usr/local/lib/python3.12/site-packages/torch/nn/modules/transformer.py:505: UserWarning: The PyTorch API of nested tensors is in prototype stage and will change in the near future. We recommend specifying layout=torch.jagged when constructing a nested tensor, as this layout receives active development, has better operator coverage, and works with torch.compile. (Triggered internally at /pytorch/aten/src/ATen/NestedTensorImpl.cpp:178.)\n",
      "  output = torch._nested_tensor_from_mask(\n"
     ]
    },
    {
     "name": "stdout",
     "output_type": "stream",
     "text": [
      "              precision    recall  f1-score   support\n",
      "\n",
      "           0       0.94      0.91      0.92       624\n",
      "           1       0.92      0.94      0.93       643\n",
      "\n",
      "    accuracy                           0.93      1267\n",
      "   macro avg       0.93      0.92      0.92      1267\n",
      "weighted avg       0.93      0.93      0.92      1267\n",
      "\n"
     ]
    }
   ],
   "source": [
    "model_kaggle.eval()\n",
    "all_preds = []\n",
    "all_labels = []\n",
    "\n",
    "with torch.no_grad():\n",
    "    for batch in test_loader_kaggle:\n",
    "        input_ids = batch['input_ids'].to(device)\n",
    "        attention_mask = batch['attention_mask'].to(device)\n",
    "        labels = batch['labels']\n",
    "        outputs = model_kaggle(input_ids, attention_mask)\n",
    "        preds = torch.argmax(outputs, dim=1).cpu().numpy()\n",
    "        all_preds.extend(preds)\n",
    "        all_labels.extend(labels.numpy())\n",
    "\n",
    "print(classification_report(all_labels, all_preds))\n",
    "\n"
   ]
  },
  {
   "cell_type": "code",
   "execution_count": null,
   "id": "7b690de8",
   "metadata": {},
   "outputs": [],
   "source": []
  },
  {
   "cell_type": "markdown",
   "id": "6612d30a",
   "metadata": {},
   "source": [
    "# Deuxième entraînement sur les données ISOT (binaire)\n",
    "C'est exactement la même chose. On donne un autre nom au modèle pour pouvoir les conserver et les évaluer plus tard pour la généralisation\n"
   ]
  },
  {
   "cell_type": "code",
   "execution_count": 25,
   "id": "2fec8cd2",
   "metadata": {},
   "outputs": [],
   "source": [
    "# Load datasets\n",
    "train_df_isot = pd.read_csv(\"data/isot/preprocessed/train.csv\")\n",
    "test_df_isot = pd.read_csv(\"data/isot/preprocessed/test.csv\")"
   ]
  },
  {
   "cell_type": "code",
   "execution_count": 26,
   "id": "ff99a27a",
   "metadata": {},
   "outputs": [],
   "source": [
    "# Build vocabulary\n",
    "counter_isot = Counter()\n",
    "for text in train_df_isot[\"text\"]:\n",
    "    tokens_isot = tokenize(text)\n",
    "    counter_isot.update(tokens_isot)\n",
    "\n",
    "most_common_isot = counter_isot.most_common(MAX_VOCAB_SIZE - 2)\n",
    "vocab_isot = {\"<PAD>\": 0, \"<UNK>\": 1}\n",
    "for i, (word, _) in enumerate(most_common_isot, start=2):\n",
    "    vocab_isot[word] = i"
   ]
  },
  {
   "cell_type": "code",
   "execution_count": 27,
   "id": "da0994e0",
   "metadata": {},
   "outputs": [],
   "source": [
    "# DataLoaders\n",
    "train_ds_isot = TextDataset(train_df_isot, vocab_isot)\n",
    "test_ds_isot = TextDataset(test_df_isot, vocab_isot)\n",
    "\n",
    "train_loader_isot = DataLoader(train_ds_isot, batch_size=32, shuffle=True, collate_fn=collate_fn)\n",
    "test_loader_isot = DataLoader(test_ds_isot, batch_size=32, collate_fn=collate_fn)"
   ]
  },
  {
   "cell_type": "code",
   "execution_count": null,
   "id": "fb05acfa",
   "metadata": {},
   "outputs": [
    {
     "name": "stdout",
     "output_type": "stream",
     "text": [
      "Epoch 1 Loss_Total: 137.7902; Mean_Loss: 0.1227\n",
      "Epoch 2 Loss_Total: 40.8721; Mean_Loss: 0.0364\n",
      "Epoch 3 Loss_Total: 27.9025; Mean_Loss: 0.0248\n",
      "Epoch 4 Loss_Total: 18.1017; Mean_Loss: 0.0161\n",
      "Epoch 5 Loss_Total: 14.1309; Mean_Loss: 0.0126\n",
      "Epoch 6 Loss_Total: 10.9249; Mean_Loss: 0.0097\n",
      "Epoch 7 Loss_Total: 11.8826; Mean_Loss: 0.0106\n",
      "Epoch 8 Loss_Total: 10.9838; Mean_Loss: 0.0098\n",
      "Epoch 9 Loss_Total: 7.7634; Mean_Loss: 0.0069\n",
      "Epoch 10 Loss_Total: 5.7465; Mean_Loss: 0.0051\n",
      "Epoch 11 Loss_Total: 7.7743; Mean_Loss: 0.0069\n",
      "Epoch 12 Loss_Total: 6.5557; Mean_Loss: 0.0058\n",
      "Epoch 13 Loss_Total: 4.0906; Mean_Loss: 0.0036\n",
      "Epoch 14 Loss_Total: 5.7161; Mean_Loss: 0.0051\n",
      "Epoch 15 Loss_Total: 5.4750; Mean_Loss: 0.0049\n",
      "Epoch 16 Loss_Total: 4.5632; Mean_Loss: 0.0041\n",
      "Epoch 17 Loss_Total: 3.1083; Mean_Loss: 0.0028\n",
      "Epoch 18 Loss_Total: 5.1205; Mean_Loss: 0.0046\n",
      "Epoch 19 Loss_Total: 4.7422; Mean_Loss: 0.0042\n",
      "Epoch 20 Loss_Total: 4.2083; Mean_Loss: 0.0037\n"
     ]
    }
   ],
   "source": [
    "# Model\n",
    "model_isot = TransformerClassifier(\n",
    "    vocab_size=MAX_VOCAB_SIZE,\n",
    "    embed_dim=EMBED_DIM, \n",
    "    hidden_dim=HIDDEN_DIM, \n",
    "    num_heads=2,\n",
    "    num_layers=2,\n",
    "    output_dim=len(train_df_isot[\"label\"].unique())\n",
    ")\n",
    "model_isot = model_isot.to(device)\n",
    "\n",
    "# Optimizer / Loss\n",
    "optimizer_isot = torch.optim.AdamW(model_isot.parameters(), lr=1e-3)\n",
    "criterion = nn.CrossEntropyLoss()\n",
    "\n",
    "# Training\n",
    "for epoch in range(20):\n",
    "    model_isot.train()\n",
    "    total_loss = 0\n",
    "    for batch in train_loader_isot:\n",
    "        input_ids = batch['input_ids'].to(device)\n",
    "        attention_mask = batch['attention_mask'].to(device)\n",
    "        labels = batch['labels'].to(device)\n",
    "\n",
    "        optimizer_isot.zero_grad()\n",
    "        outputs = model_isot(input_ids, attention_mask)\n",
    "        loss = criterion(outputs, labels)\n",
    "        loss.backward()\n",
    "        optimizer_isot.step()\n",
    "        total_loss += loss.item()\n",
    "        mean_loss = total_loss/len(train_loader_isot)\n",
    "    print(f\"Epoch {epoch+1} Loss_Total: {total_loss:.4f}; Mean_Loss: {mean_loss:.4f}\")\n"
   ]
  },
  {
   "cell_type": "code",
   "execution_count": null,
   "id": "f3a75107",
   "metadata": {},
   "outputs": [
    {
     "name": "stdout",
     "output_type": "stream",
     "text": [
      "              precision    recall  f1-score   support\n",
      "\n",
      "           0       1.00      1.00      1.00      4702\n",
      "           1       0.99      1.00      1.00      4278\n",
      "\n",
      "    accuracy                           1.00      8980\n",
      "   macro avg       1.00      1.00      1.00      8980\n",
      "weighted avg       1.00      1.00      1.00      8980\n",
      "\n"
     ]
    }
   ],
   "source": [
    "model_isot.eval()\n",
    "all_preds = []\n",
    "all_labels = []\n",
    "\n",
    "with torch.no_grad():\n",
    "    for batch in test_loader_isot:\n",
    "        input_ids = batch['input_ids'].to(device)\n",
    "        attention_mask = batch['attention_mask'].to(device)\n",
    "        labels = batch['labels']\n",
    "        outputs = model_isot(input_ids, attention_mask)\n",
    "        preds = torch.argmax(outputs, dim=1).cpu().numpy()\n",
    "        all_preds.extend(preds)\n",
    "        all_labels.extend(labels.numpy())\n",
    "\n",
    "print(classification_report(all_labels, all_preds))\n",
    "\n"
   ]
  },
  {
   "cell_type": "markdown",
   "id": "72f7a68d",
   "metadata": {},
   "source": [
    "# Généralisation : Entrainement sur Kaggle et évaluation sur ISOT"
   ]
  },
  {
   "cell_type": "code",
   "execution_count": null,
   "id": "69b25909",
   "metadata": {},
   "outputs": [
    {
     "name": "stdout",
     "output_type": "stream",
     "text": [
      "              precision    recall  f1-score   support\n",
      "\n",
      "           0       0.55      0.43      0.48      4702\n",
      "           1       0.50      0.62      0.55      4278\n",
      "\n",
      "    accuracy                           0.52      8980\n",
      "   macro avg       0.52      0.52      0.52      8980\n",
      "weighted avg       0.53      0.52      0.52      8980\n",
      "\n"
     ]
    }
   ],
   "source": [
    "model_kaggle.eval()\n",
    "all_preds = []\n",
    "all_labels = []\n",
    "\n",
    "with torch.no_grad():\n",
    "    for batch in test_loader_isot:\n",
    "        input_ids = batch['input_ids'].to(device)\n",
    "        attention_mask = batch['attention_mask'].to(device)\n",
    "        labels = batch['labels']\n",
    "        outputs = model_kaggle(input_ids, attention_mask)\n",
    "        preds = torch.argmax(outputs, dim=1).cpu().numpy()\n",
    "        all_preds.extend(preds)\n",
    "        all_labels.extend(labels.numpy())\n",
    "\n",
    "print(classification_report(all_labels, all_preds))"
   ]
  },
  {
   "cell_type": "markdown",
   "id": "9e8d551a",
   "metadata": {},
   "source": [
    "# Généralisation : Entrainement sur ISOT et évaluation sur Kaggle"
   ]
  },
  {
   "cell_type": "code",
   "execution_count": null,
   "id": "7e6fba1a",
   "metadata": {},
   "outputs": [
    {
     "ename": "NameError",
     "evalue": "name 'model_isot' is not defined",
     "output_type": "error",
     "traceback": [
      "\u001b[31m---------------------------------------------------------------------------\u001b[39m",
      "\u001b[31mNameError\u001b[39m                                 Traceback (most recent call last)",
      "\u001b[36mCell\u001b[39m\u001b[36m \u001b[39m\u001b[32mIn[5]\u001b[39m\u001b[32m, line 1\u001b[39m\n\u001b[32m----> \u001b[39m\u001b[32m1\u001b[39m \u001b[43mmodel_isot\u001b[49m.eval()\n\u001b[32m      2\u001b[39m all_preds = []\n\u001b[32m      3\u001b[39m all_labels = []\n",
      "\u001b[31mNameError\u001b[39m: name 'model_isot' is not defined"
     ]
    }
   ],
   "source": [
    "model_isot.eval()\n",
    "all_preds = []\n",
    "all_labels = []\n",
    "\n",
    "with torch.no_grad():\n",
    "    for batch in test_loader_kaggle:\n",
    "        input_ids = batch['input_ids'].to(device)\n",
    "        attention_mask = batch['attention_mask'].to(device)\n",
    "        labels = batch['labels']\n",
    "        outputs = model_isot(input_ids, attention_mask)\n",
    "        preds = torch.argmax(outputs, dim=1).cpu().numpy()\n",
    "        all_preds.extend(preds)\n",
    "        all_labels.extend(labels.numpy())\n",
    "\n",
    "print(classification_report(all_labels, all_preds))"
   ]
  },
  {
   "cell_type": "markdown",
   "id": "b3878783",
   "metadata": {},
   "source": [
    "## Modèle avec probabilité"
   ]
  },
  {
   "cell_type": "code",
   "execution_count": 17,
   "id": "82c1273e",
   "metadata": {},
   "outputs": [],
   "source": [
    "class TransformerClassifier_proba(nn.Module):\n",
    "    def __init__(self, vocab_size, embed_dim, num_heads, hidden_dim, num_layers, output_dim, max_len=512, dropout=0.1):\n",
    "        super().__init__()\n",
    "        self.embedding = nn.Embedding(vocab_size, embed_dim)\n",
    "        self.positional_encoding = self._generate_positional_encoding(max_len, embed_dim)\n",
    "        self.dropout = nn.Dropout(dropout)\n",
    "\n",
    "        encoder_layer = nn.TransformerEncoderLayer(d_model=embed_dim, nhead=num_heads, dim_feedforward=hidden_dim, dropout=dropout, batch_first=True)\n",
    "        self.transformer_encoder = nn.TransformerEncoder(encoder_layer, num_layers=num_layers)\n",
    "\n",
    "        self.fc = nn.Linear(embed_dim, output_dim)\n",
    "\n",
    "    def forward(self, input_ids, attention_mask=None):\n",
    "        x = self.embedding(input_ids) + self.positional_encoding[:input_ids.size(1)].unsqueeze(0).to(input_ids.device)\n",
    "        x = self.dropout(x)\n",
    "\n",
    "        if attention_mask is not None:\n",
    "            # Transformer expects 0 for attend, -inf for mask; convert accordingly\n",
    "            mask = (attention_mask == 0).to(torch.bool)\n",
    "        else:\n",
    "            mask = None\n",
    "\n",
    "        x = self.transformer_encoder(x, src_key_padding_mask=mask)\n",
    "        cls_output = x[:, 0, :]  # Use first token ([CLS]-like)\n",
    "        return torch.sigmoid(self.fc(cls_output))  # proba entre 0 et 1\n",
    "\n",
    "    def _generate_positional_encoding(self, max_len, d_model):\n",
    "        pe = torch.zeros(max_len, d_model)\n",
    "        position = torch.arange(0, max_len, dtype=torch.float).unsqueeze(1)\n",
    "        div_term = torch.exp(torch.arange(0, d_model, 2).float() * (-torch.log(torch.tensor(10000.0)) / d_model))\n",
    "        pe[:, 0::2] = torch.sin(position * div_term)\n",
    "        pe[:, 1::2] = torch.cos(position * div_term)\n",
    "        return pe\n"
   ]
  },
  {
   "cell_type": "markdown",
   "id": "4ae842e4",
   "metadata": {},
   "source": [
    "### kaggle"
   ]
  },
  {
   "cell_type": "code",
   "execution_count": 60,
   "id": "d7b18e81",
   "metadata": {},
   "outputs": [
    {
     "name": "stdout",
     "output_type": "stream",
     "text": [
      "Epoch 1 Loss_Total: 107.9066; Mean_Loss: 0.6787\n",
      "Epoch 2 Loss_Total: 100.5058; Mean_Loss: 0.6321\n",
      "Epoch 3 Loss_Total: 93.7781; Mean_Loss: 0.5898\n",
      "Epoch 4 Loss_Total: 90.9514; Mean_Loss: 0.5720\n",
      "Epoch 5 Loss_Total: 88.9646; Mean_Loss: 0.5595\n",
      "Epoch 6 Loss_Total: 88.1066; Mean_Loss: 0.5541\n",
      "Epoch 7 Loss_Total: 87.2134; Mean_Loss: 0.5485\n",
      "Epoch 8 Loss_Total: 89.4428; Mean_Loss: 0.5625\n",
      "Epoch 9 Loss_Total: 88.1123; Mean_Loss: 0.5542\n",
      "Epoch 10 Loss_Total: 86.3431; Mean_Loss: 0.5430\n",
      "Epoch 11 Loss_Total: 85.8552; Mean_Loss: 0.5400\n",
      "Epoch 12 Loss_Total: 84.5038; Mean_Loss: 0.5315\n",
      "Epoch 13 Loss_Total: 84.7407; Mean_Loss: 0.5330\n",
      "Epoch 14 Loss_Total: 86.4660; Mean_Loss: 0.5438\n",
      "Epoch 15 Loss_Total: 88.4188; Mean_Loss: 0.5561\n",
      "Epoch 16 Loss_Total: 88.7426; Mean_Loss: 0.5581\n",
      "Epoch 17 Loss_Total: 85.9393; Mean_Loss: 0.5405\n",
      "Epoch 18 Loss_Total: 85.7051; Mean_Loss: 0.5390\n",
      "Epoch 19 Loss_Total: 86.9671; Mean_Loss: 0.5470\n",
      "Epoch 20 Loss_Total: 84.7506; Mean_Loss: 0.5330\n"
     ]
    }
   ],
   "source": [
    "# Model\n",
    "model_kaggle_proba = TransformerClassifier_proba(\n",
    "    vocab_size=MAX_VOCAB_SIZE,\n",
    "    embed_dim=EMBED_DIM, \n",
    "    hidden_dim=HIDDEN_DIM, \n",
    "    num_heads=2,\n",
    "    num_layers=2,\n",
    "    output_dim = 1\n",
    ")\n",
    "model_kaggle_proba = model_kaggle_proba.to(device)\n",
    "\n",
    "# Optimizer / Loss\n",
    "optimizer_kaggle_proba = torch.optim.AdamW(model_kaggle_proba.parameters(), lr=1e-3)\n",
    "criterion = nn.BCEWithLogitsLoss()  # pas CrossEntropyLoss\n",
    "\n",
    "# Training\n",
    "for epoch in range(20):\n",
    "    model_kaggle_proba.train()\n",
    "    total_loss = 0\n",
    "    for batch in train_loader_kaggle:\n",
    "        input_ids = batch['input_ids'].to(device)\n",
    "        attention_mask = batch['attention_mask'].to(device)\n",
    "        labels = batch['labels'].float().unsqueeze(1).to(device)  # reshape pour [batch_size, 1]\n",
    "\n",
    "        optimizer_kaggle_proba.zero_grad()\n",
    "        outputs = model_kaggle_proba(input_ids, attention_mask)\n",
    "        loss = criterion(outputs, labels)\n",
    "        loss.backward()\n",
    "        optimizer_kaggle_proba.step()\n",
    "        total_loss += loss.item()\n",
    "        mean_loss = total_loss/len(train_loader_kaggle)\n",
    "    print(f\"Epoch {epoch+1} Loss_Total: {total_loss:.4f}; Mean_Loss: {mean_loss:.4f}\")\n"
   ]
  },
  {
   "cell_type": "code",
   "execution_count": 61,
   "id": "6af89ec3",
   "metadata": {},
   "outputs": [
    {
     "data": {
      "image/png": "[encoded data removed]",
      "text/plain": [
       "<Figure size 800x500 with 1 Axes>"
      ]
     },
     "metadata": {},
     "output_type": "display_data"
    }
   ],
   "source": [
    "model_kaggle_proba.eval()\n",
    "all_probs_kaggle = []\n",
    "all_labels_kaggle = []\n",
    "\n",
    "with torch.no_grad():\n",
    "    for batch in test_loader_kaggle:\n",
    "        input_ids = batch['input_ids'].to(device)\n",
    "        attention_mask = batch['attention_mask'].to(device)\n",
    "        labels = batch['labels'].float().unsqueeze(1).to(device)  # [batch_size, 1]\n",
    "\n",
    "        outputs = model_kaggle_proba(input_ids, attention_mask)  # proba ∈ [0,1]\n",
    "        all_probs_kaggle.extend(outputs.cpu().numpy().flatten())\n",
    "        all_labels_kaggle.extend(labels.cpu().numpy().flatten())\n",
    "\n",
    "# Convert to numpy arrays\n",
    "all_probs_kaggle = np.array(all_probs_kaggle)\n",
    "all_labels_kaggle = np.array(all_labels_kaggle)\n",
    "\n",
    "# Histogramme des probabilités selon la vraie classe\n",
    "plt.figure(figsize=(8, 5))\n",
    "plt.hist(all_probs_kaggle[all_labels_kaggle == 0], bins=50, color='blue', alpha=0.6, label='Classe 0 (réel)')\n",
    "plt.hist(all_probs_kaggle[all_labels_kaggle == 1], bins=50, color='red', alpha=0.6, label='Classe 1 (réel)')\n",
    "plt.xlabel('Probabilité prédite')\n",
    "plt.ylabel('Nombre d\\'échantillons')\n",
    "plt.title('Distribution des probabilités par classe réelle')\n",
    "plt.legend()\n",
    "plt.grid(True)\n",
    "plt.tight_layout()\n",
    "plt.show()\n"
   ]
  },
  {
   "cell_type": "code",
   "execution_count": 62,
   "id": "095fcea1",
   "metadata": {},
   "outputs": [
    {
     "name": "stdout",
     "output_type": "stream",
     "text": [
      "              precision    recall  f1-score   support\n",
      "\n",
      "         0.0       0.94      0.87      0.90       624\n",
      "         1.0       0.88      0.94      0.91       643\n",
      "\n",
      "    accuracy                           0.90      1267\n",
      "   macro avg       0.91      0.90      0.90      1267\n",
      "weighted avg       0.91      0.90      0.90      1267\n",
      "\n"
     ]
    }
   ],
   "source": [
    "model_kaggle_proba.eval()\n",
    "all_preds = []\n",
    "all_labels = []\n",
    "\n",
    "with torch.no_grad():\n",
    "    for batch in test_loader_kaggle:\n",
    "        input_ids = batch['input_ids'].to(device)\n",
    "        attention_mask = batch['attention_mask'].to(device)\n",
    "        labels = batch['labels'].float().unsqueeze(1).to(device)  # [batch_size, 1]\n",
    "\n",
    "        outputs = model_kaggle_proba(input_ids, attention_mask)  # proba ∈ [0,1]\n",
    "        preds = (outputs > 0.5).int().cpu().numpy()  # seuil à 0.5\n",
    "        all_preds.extend(preds.flatten())\n",
    "        all_labels.extend(labels.cpu().numpy().flatten())\n",
    "\n",
    "print(classification_report(all_labels, all_preds))"
   ]
  },
  {
   "cell_type": "code",
   "execution_count": 63,
   "id": "38a0ce52",
   "metadata": {},
   "outputs": [
    {
     "name": "stdout",
     "output_type": "stream",
     "text": [
      "Erreur quadratique moyenne (MSE) : 0.092691\n"
     ]
    }
   ],
   "source": [
    "model_kaggle_proba.eval()\n",
    "all_probs_kaggle = []\n",
    "all_labels_kaggle = []\n",
    "\n",
    "with torch.no_grad():\n",
    "    for batch in test_loader_kaggle:\n",
    "        input_ids = batch['input_ids'].to(device)\n",
    "        attention_mask = batch['attention_mask'].to(device)\n",
    "        labels = batch['labels'].float().unsqueeze(1).to(device)  # [batch_size, 1]\n",
    "\n",
    "        outputs = model_kaggle_proba(input_ids, attention_mask)  # proba ∈ [0,1]\n",
    "        all_probs_kaggle.extend(outputs.cpu().numpy().flatten())\n",
    "        all_labels_kaggle.extend(labels.cpu().numpy().flatten())\n",
    "\n",
    "# Calcul de l'erreur quadratique moyenne\n",
    "mse = mean_squared_error(all_labels_kaggle, all_probs_kaggle)\n",
    "print(f\"Erreur quadratique moyenne (MSE) : {mse:.6f}\")"
   ]
  },
  {
   "cell_type": "markdown",
   "id": "e13b5272",
   "metadata": {},
   "source": [
    "### ISOT"
   ]
  },
  {
   "cell_type": "code",
   "execution_count": 28,
   "id": "db774dbf",
   "metadata": {},
   "outputs": [
    {
     "name": "stdout",
     "output_type": "stream",
     "text": [
      "Epoch 1 Loss_Total: 660.8612; Mean_Loss: 0.5885\n",
      "Epoch 2 Loss_Total: 619.3799; Mean_Loss: 0.5515\n",
      "Epoch 3 Loss_Total: 628.6251; Mean_Loss: 0.5598\n",
      "Epoch 4 Loss_Total: 615.9405; Mean_Loss: 0.5485\n",
      "Epoch 5 Loss_Total: 635.5888; Mean_Loss: 0.5660\n",
      "Epoch 6 Loss_Total: 646.8612; Mean_Loss: 0.5760\n",
      "Epoch 7 Loss_Total: 660.0683; Mean_Loss: 0.5878\n",
      "Epoch 8 Loss_Total: 653.4965; Mean_Loss: 0.5819\n",
      "Epoch 9 Loss_Total: 661.7104; Mean_Loss: 0.5892\n",
      "Epoch 10 Loss_Total: 655.2345; Mean_Loss: 0.5835\n",
      "Epoch 11 Loss_Total: 647.1326; Mean_Loss: 0.5763\n",
      "Epoch 12 Loss_Total: 643.6662; Mean_Loss: 0.5732\n",
      "Epoch 13 Loss_Total: 647.7870; Mean_Loss: 0.5768\n",
      "Epoch 14 Loss_Total: 644.6429; Mean_Loss: 0.5740\n",
      "Epoch 15 Loss_Total: 636.1456; Mean_Loss: 0.5665\n",
      "Epoch 16 Loss_Total: 630.0046; Mean_Loss: 0.5610\n",
      "Epoch 17 Loss_Total: 624.6364; Mean_Loss: 0.5562\n",
      "Epoch 18 Loss_Total: 622.4133; Mean_Loss: 0.5542\n",
      "Epoch 19 Loss_Total: 623.3957; Mean_Loss: 0.5551\n",
      "Epoch 20 Loss_Total: 617.7019; Mean_Loss: 0.5500\n"
     ]
    }
   ],
   "source": [
    "# Model\n",
    "model_isot_proba = TransformerClassifier_proba(\n",
    "    vocab_size=MAX_VOCAB_SIZE,\n",
    "    embed_dim=EMBED_DIM, \n",
    "    hidden_dim=HIDDEN_DIM, \n",
    "    num_heads=2,\n",
    "    num_layers=2,\n",
    "    output_dim = 1\n",
    ")\n",
    "model_isot_proba = model_isot_proba.to(device)\n",
    "\n",
    "# Optimizer / Loss\n",
    "optimizer_isot_proba = torch.optim.AdamW(model_isot_proba.parameters(), lr=1e-3)\n",
    "criterion = nn.BCEWithLogitsLoss()  # pas CrossEntropyLoss\n",
    "\n",
    "# Training\n",
    "for epoch in range(20):\n",
    "    model_isot_proba.train()\n",
    "    total_loss = 0\n",
    "    for batch in train_loader_isot:\n",
    "        input_ids = batch['input_ids'].to(device)\n",
    "        attention_mask = batch['attention_mask'].to(device)\n",
    "        labels = batch['labels'].float().unsqueeze(1).to(device)  # reshape pour [batch_size, 1]\n",
    "\n",
    "        optimizer_isot_proba.zero_grad()\n",
    "        outputs = model_isot_proba(input_ids, attention_mask)\n",
    "        loss = criterion(outputs, labels)\n",
    "        loss.backward()\n",
    "        optimizer_isot_proba.step()\n",
    "        total_loss += loss.item()\n",
    "        mean_loss = total_loss/len(train_loader_isot)\n",
    "    print(f\"Epoch {epoch+1} Loss_Total: {total_loss:.4f}; Mean_Loss: {mean_loss:.4f}\")\n"
   ]
  },
  {
   "cell_type": "code",
   "execution_count": 34,
   "id": "f96a7000",
   "metadata": {},
   "outputs": [
    {
     "name": "stdout",
     "output_type": "stream",
     "text": [
      "              precision    recall  f1-score   support\n",
      "\n",
      "         0.0       0.95      0.92      0.94      4702\n",
      "         1.0       0.91      0.95      0.93      4278\n",
      "\n",
      "    accuracy                           0.93      8980\n",
      "   macro avg       0.93      0.93      0.93      8980\n",
      "weighted avg       0.93      0.93      0.93      8980\n",
      "\n"
     ]
    }
   ],
   "source": [
    "model_isot_proba.eval()\n",
    "all_preds = []\n",
    "all_labels = []\n",
    "\n",
    "with torch.no_grad():\n",
    "    for batch in test_loader_isot:\n",
    "        input_ids = batch['input_ids'].to(device)\n",
    "        attention_mask = batch['attention_mask'].to(device)\n",
    "        labels = batch['labels'].float().unsqueeze(1).to(device)  # [batch_size, 1]\n",
    "\n",
    "        outputs = model_isot_proba(input_ids, attention_mask)  # proba ∈ [0,1]\n",
    "        preds = (outputs > 0.5).int().cpu().numpy()  # seuil à 0.5\n",
    "        all_preds.extend(preds.flatten())\n",
    "        all_labels.extend(labels.cpu().numpy().flatten())\n",
    "\n",
    "print(classification_report(all_labels, all_preds))"
   ]
  },
  {
   "cell_type": "code",
   "execution_count": 35,
   "id": "8e6a1a6e",
   "metadata": {},
   "outputs": [
    {
     "data": {
      "image/png": "[encoded data removed]",
      "text/plain": [
       "<Figure size 800x500 with 1 Axes>"
      ]
     },
     "metadata": {},
     "output_type": "display_data"
    }
   ],
   "source": [
    "model_isot_proba.eval()\n",
    "all_probs_isot = []\n",
    "all_labels = []\n",
    "\n",
    "with torch.no_grad():\n",
    "    for batch in test_loader_isot:\n",
    "        input_ids = batch['input_ids'].to(device)\n",
    "        attention_mask = batch['attention_mask'].to(device)\n",
    "        labels = batch['labels'].float().unsqueeze(1).to(device)  # [batch_size, 1]\n",
    "\n",
    "        outputs = model_isot_proba(input_ids, attention_mask)  # proba ∈ [0,1]\n",
    "        all_probs_isot.extend(outputs.cpu().numpy().flatten())\n",
    "        all_labels.extend(labels.cpu().numpy().flatten())\n",
    "\n",
    "# Convert to numpy arrays\n",
    "all_probs_isot = np.array(all_probs_isot)\n",
    "all_labels = np.array(all_labels)\n",
    "\n",
    "# Histogramme des probabilités selon la vraie classe\n",
    "plt.figure(figsize=(8, 5))\n",
    "plt.hist(all_probs_isot[all_labels == 0], bins=50, color='blue', alpha=0.6, label='Classe 0 (réel)')\n",
    "plt.hist(all_probs_isot[all_labels == 1], bins=50, color='red', alpha=0.6, label='Classe 1 (réel)')\n",
    "plt.xlabel('Probabilité prédite')\n",
    "plt.ylabel('Nombre d\\'échantillons')\n",
    "plt.title('Distribution des probabilités par classe réelle')\n",
    "plt.legend()\n",
    "plt.grid(True)\n",
    "plt.tight_layout()\n",
    "plt.show()\n"
   ]
  },
  {
   "cell_type": "code",
   "execution_count": 36,
   "id": "04eb6d51",
   "metadata": {},
   "outputs": [
    {
     "name": "stdout",
     "output_type": "stream",
     "text": [
      "Erreur quadratique moyenne (MSE) : 0.065682\n"
     ]
    }
   ],
   "source": [
    "model_isot_proba.eval()\n",
    "all_probs_isot = []\n",
    "all_labels_isot = []\n",
    "\n",
    "with torch.no_grad():\n",
    "    for batch in test_loader_isot:\n",
    "        input_ids = batch['input_ids'].to(device)\n",
    "        attention_mask = batch['attention_mask'].to(device)\n",
    "        labels = batch['labels'].float().unsqueeze(1).to(device)  # [batch_size, 1]\n",
    "\n",
    "        outputs = model_isot_proba(input_ids, attention_mask)  # proba ∈ [0,1]\n",
    "        all_probs_isot.extend(outputs.cpu().numpy().flatten())\n",
    "        all_labels_isot.extend(labels.cpu().numpy().flatten())\n",
    "\n",
    "# Calcul de l'erreur quadratique moyenne\n",
    "mse = mean_squared_error(all_labels_isot, all_probs_isot)\n",
    "print(f\"Erreur quadratique moyenne (MSE) : {mse:.6f}\")"
   ]
  }
 ],
 "metadata": {
  "kernelspec": {
   "display_name": "Python 3",
   "language": "python",
   "name": "python3"
  },
  "language_info": {
   "codemirror_mode": {
    "name": "ipython",
    "version": 3
   },
   "file_extension": ".py",
   "mimetype": "text/x-python",
   "name": "python",
   "nbconvert_exporter": "python",
   "pygments_lexer": "ipython3",
   "version": "3.12.9"
  }
 },
 "nbformat": 4,
 "nbformat_minor": 5
}
