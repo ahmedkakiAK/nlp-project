{
 "cells": [
  {
   "cell_type": "markdown",
   "id": "8083e2d0",
   "metadata": {},
   "source": [
    "# Zero-shot classification for fake news detection\n",
    "\n",
    "In this notebook, we will try using a pretrained language model for zero-shot classification in order to detect fake news for both the ISOT and Kaggle Real or Fake datasets. For this, we won't need the same preprocessing as before, nor the train dataset. As for other models, we will only use the test dataset for the evaluation."
   ]
  },
  {
   "cell_type": "code",
   "execution_count": 24,
   "id": "fdf92d20",
   "metadata": {},
   "outputs": [],
   "source": [
    "import pandas as pd\n",
    "\n",
    "from transformers import pipeline\n",
    "\n",
    "from sklearn.metrics import classification_report"
   ]
  },
  {
   "cell_type": "code",
   "execution_count": 29,
   "id": "5eb34878",
   "metadata": {},
   "outputs": [],
   "source": [
    "# Load datasets: choose ISOT or Kaggle True or Fake datasets\n",
    "# test_df = pd.read_csv(\"data/kaggle/preprocessed/test.csv\")\n",
    "\n",
    "test_df = pd.read_csv(\"data/isot/preprocessed/test.csv\")"
   ]
  },
  {
   "cell_type": "code",
   "execution_count": 30,
   "id": "cffd7622",
   "metadata": {},
   "outputs": [
    {
     "name": "stderr",
     "output_type": "stream",
     "text": [
      "Some weights of the model checkpoint at roberta-large-mnli were not used when initializing RobertaForSequenceClassification: ['roberta.pooler.dense.bias', 'roberta.pooler.dense.weight']\n",
      "- This IS expected if you are initializing RobertaForSequenceClassification from the checkpoint of a model trained on another task or with another architecture (e.g. initializing a BertForSequenceClassification model from a BertForPreTraining model).\n",
      "- This IS NOT expected if you are initializing RobertaForSequenceClassification from the checkpoint of a model that you expect to be exactly identical (initializing a BertForSequenceClassification model from a BertForSequenceClassification model).\n",
      "Device set to use cuda:0\n"
     ]
    }
   ],
   "source": [
    "# Choosing Hugging Face model\n",
    "classifier = pipeline(\"zero-shot-classification\", model=\"roberta-large-mnli\")\n",
    "\n",
    "# Defining the labels in natural language for the model\n",
    "candidate_labels = ['Fake', 'Real']"
   ]
  },
  {
   "cell_type": "code",
   "execution_count": 31,
   "id": "6649b0a8",
   "metadata": {},
   "outputs": [],
   "source": [
    "batch_size = 32  # Adjust batch size as needed\n",
    "results = []\n",
    "\n",
    "# Loop through the dataset in batches\n",
    "for i in range(0, len(test_df), batch_size):\n",
    "    batch = test_df.iloc[i:i+batch_size]\n",
    "    texts = batch[\"text\"].tolist()\n",
    "    \n",
    "    # Classify in one batch\n",
    "    result = classifier(texts, candidate_labels=candidate_labels)\n",
    "    \n",
    "    # Collect results\n",
    "    for text, res in zip(texts, result):\n",
    "        results.append({\n",
    "            \"text\": text,\n",
    "            \"predicted_label\": res[\"labels\"][0],\n",
    "            \"score\": res[\"scores\"][0]\n",
    "        })\n",
    "\n",
    "# Create DataFrame from results\n",
    "results_df = pd.DataFrame(results)"
   ]
  },
  {
   "cell_type": "code",
   "execution_count": 32,
   "id": "f7e84a81",
   "metadata": {},
   "outputs": [
    {
     "name": "stdout",
     "output_type": "stream",
     "text": [
      "              precision    recall  f1-score   support\n",
      "\n",
      "           0       0.81      0.20      0.32      4702\n",
      "           1       0.52      0.95      0.67      4278\n",
      "\n",
      "    accuracy                           0.56      8980\n",
      "   macro avg       0.67      0.58      0.50      8980\n",
      "weighted avg       0.67      0.56      0.49      8980\n",
      "\n"
     ]
    }
   ],
   "source": [
    "# True labels and predicted labels\n",
    "y_true = test_df[\"label\"]\n",
    "y_pred = results_df[\"predicted_label\"].map({\"Fake\": 0, \"Real\": 1})\n",
    "\n",
    "# Print classification report\n",
    "print(classification_report(y_true, y_pred))\n"
   ]
  }
 ],
 "metadata": {
  "kernelspec": {
   "display_name": "Python 3",
   "language": "python",
   "name": "python3"
  },
  "language_info": {
   "codemirror_mode": {
    "name": "ipython",
    "version": 3
   },
   "file_extension": ".py",
   "mimetype": "text/x-python",
   "name": "python",
   "nbconvert_exporter": "python",
   "pygments_lexer": "ipython3",
   "version": "3.12.9"
  }
 },
 "nbformat": 4,
 "nbformat_minor": 5
}
