{
 "cells": [
  {
   "cell_type": "markdown",
   "id": "162600e8",
   "metadata": {},
   "source": [
    "# LSTM model for fake news detection\n",
    "\n",
    "In this notebook, we implement and show results of the LSTM model for the fake news detection task."
   ]
  },
  {
   "cell_type": "code",
   "execution_count": 1,
   "id": "9d03661b",
   "metadata": {},
   "outputs": [],
   "source": [
    "# Import packages\n",
    "import pandas as pd\n",
    "import numpy as np\n",
    "import matplotlib.pyplot as plt\n",
    "import seaborn as sns\n",
    "import re\n",
    "\n"
   ]
  },
  {
   "cell_type": "markdown",
   "id": "49098da7",
   "metadata": {},
   "source": [
    "## Dataset\n",
    "\n",
    "We use the Information Security and Object Technology (ISOT) lab's dataset. It predominantly contains political news from the US and around the world segregated into two CSV files, ‘Fake.csv’ and ‘True.csv’. "
   ]
  },
  {
   "cell_type": "code",
   "execution_count": null,
   "id": "2fa4ef32",
   "metadata": {},
   "outputs": [
    {
     "data": {
      "application/vnd.microsoft.datawrangler.viewer.v0+json": {
       "columns": [
        {
         "name": "index",
         "rawType": "int64",
         "type": "integer"
        },
        {
         "name": "title",
         "rawType": "object",
         "type": "string"
        },
        {
         "name": "text",
         "rawType": "object",
         "type": "string"
        },
        {
         "name": "subject",
         "rawType": "object",
         "type": "string"
        },
        {
         "name": "date",
         "rawType": "object",
         "type": "string"
        }
       ],
       "conversionMethod": "pd.DataFrame",
       "ref": "bf692787-64d9-426b-b2ab-33b41d99c2b3",
       "rows": [
        [
         "0",
         "As U.S. budget fight looms, Republicans flip their fiscal script",
         "WASHINGTON (Reuters) - The head of a conservative Republican faction in the U.S. Congress, who voted this month for a huge expansion of the national debt to pay for tax cuts, called himself a “fiscal conservative” on Sunday and urged budget restraint in 2018. In keeping with a sharp pivot under way among Republicans, U.S. Representative Mark Meadows, speaking on CBS’ “Face the Nation,” drew a hard line on federal spending, which lawmakers are bracing to do battle over in January. When they return from the holidays on Wednesday, lawmakers will begin trying to pass a federal budget in a fight likely to be linked to other issues, such as immigration policy, even as the November congressional election campaigns approach in which Republicans will seek to keep control of Congress. President Donald Trump and his Republicans want a big budget increase in military spending, while Democrats also want proportional increases for non-defense “discretionary” spending on programs that support education, scientific research, infrastructure, public health and environmental protection. “The (Trump) administration has already been willing to say: ‘We’re going to increase non-defense discretionary spending ... by about 7 percent,’” Meadows, chairman of the small but influential House Freedom Caucus, said on the program. “Now, Democrats are saying that’s not enough, we need to give the government a pay raise of 10 to 11 percent. For a fiscal conservative, I don’t see where the rationale is. ... Eventually you run out of other people’s money,” he said. Meadows was among Republicans who voted in late December for their party’s debt-financed tax overhaul, which is expected to balloon the federal budget deficit and add about $1.5 trillion over 10 years to the $20 trillion national debt. “It’s interesting to hear Mark talk about fiscal responsibility,” Democratic U.S. Representative Joseph Crowley said on CBS. Crowley said the Republican tax bill would require the  United States to borrow $1.5 trillion, to be paid off by future generations, to finance tax cuts for corporations and the rich. “This is one of the least ... fiscally responsible bills we’ve ever seen passed in the history of the House of Representatives. I think we’re going to be paying for this for many, many years to come,” Crowley said. Republicans insist the tax package, the biggest U.S. tax overhaul in more than 30 years,  will boost the economy and job growth. House Speaker Paul Ryan, who also supported the tax bill, recently went further than Meadows, making clear in a radio interview that welfare or “entitlement reform,” as the party often calls it, would be a top Republican priority in 2018. In Republican parlance, “entitlement” programs mean food stamps, housing assistance, Medicare and Medicaid health insurance for the elderly, poor and disabled, as well as other programs created by Washington to assist the needy. Democrats seized on Ryan’s early December remarks, saying they showed Republicans would try to pay for their tax overhaul by seeking spending cuts for social programs. But the goals of House Republicans may have to take a back seat to the Senate, where the votes of some Democrats will be needed to approve a budget and prevent a government shutdown. Democrats will use their leverage in the Senate, which Republicans narrowly control, to defend both discretionary non-defense programs and social spending, while tackling the issue of the “Dreamers,” people brought illegally to the country as children. Trump in September put a March 2018 expiration date on the Deferred Action for Childhood Arrivals, or DACA, program, which protects the young immigrants from deportation and provides them with work permits. The president has said in recent Twitter messages he wants funding for his proposed Mexican border wall and other immigration law changes in exchange for agreeing to help the Dreamers. Representative Debbie Dingell told CBS she did not favor linking that issue to other policy objectives, such as wall funding. “We need to do DACA clean,” she said.  On Wednesday, Trump aides will meet with congressional leaders to discuss those issues. That will be followed by a weekend of strategy sessions for Trump and Republican leaders on Jan. 6 and 7, the White House said. Trump was also scheduled to meet on Sunday with Florida Republican Governor Rick Scott, who wants more emergency aid. The House has passed an $81 billion aid package after hurricanes in Florida, Texas and Puerto Rico, and wildfires in California. The package far exceeded the $44 billion requested by the Trump administration. The Senate has not yet voted on the aid. ",
         "politicsNews",
         "December 31, 2017 "
        ],
        [
         "1",
         "U.S. military to accept transgender recruits on Monday: Pentagon",
         "WASHINGTON (Reuters) - Transgender people will be allowed for the first time to enlist in the U.S. military starting on Monday as ordered by federal courts, the Pentagon said on Friday, after President Donald Trump’s administration decided not to appeal rulings that blocked his transgender ban. Two federal appeals courts, one in Washington and one in Virginia, last week rejected the administration’s request to put on hold orders by lower court judges requiring the military to begin accepting transgender recruits on Jan. 1. A Justice Department official said the administration will not challenge those rulings. “The Department of Defense has announced that it will be releasing an independent study of these issues in the coming weeks. So rather than litigate this interim appeal before that occurs, the administration has decided to wait for DOD’s study and will continue to defend the president’s lawful authority in District Court in the meantime,” the official said, speaking on condition of anonymity. In September, the Pentagon said it had created a panel of senior officials to study how to implement a directive by Trump to prohibit transgender individuals from serving. The Defense Department has until Feb. 21 to submit a plan to Trump. Lawyers representing currently-serving transgender service members and aspiring recruits said they had expected the administration to appeal the rulings to the conservative-majority Supreme Court, but were hoping that would not happen. Pentagon spokeswoman Heather Babb said in a statement: “As mandated by court order, the Department of Defense is prepared to begin accessing transgender applicants for military service Jan. 1. All applicants must meet all accession standards.” Jennifer Levi, a lawyer with gay, lesbian and transgender advocacy group GLAD, called the decision not to appeal “great news.” “I’m hoping it means the government has come to see that there is no way to justify a ban and that it’s not good for the military or our country,” Levi said. Both GLAD and the American Civil Liberties Union represent plaintiffs in the lawsuits filed against the administration. In a move that appealed to his hard-line conservative supporters, Trump announced in July that he would prohibit transgender people from serving in the military, reversing Democratic President Barack Obama’s policy of accepting them. Trump said on Twitter at the time that the military “cannot be burdened with the tremendous medical costs and disruption that transgender in the military would entail.” Four federal judges - in Baltimore, Washington, D.C., Seattle and Riverside, California - have issued rulings blocking Trump’s ban while legal challenges to the Republican president’s policy proceed. The judges said the ban would likely violate the right under the U.S. Constitution to equal protection under the law. The Pentagon on Dec. 8 issued guidelines to recruitment personnel in order to enlist transgender applicants by Jan. 1. The memo outlined medical requirements and specified how the applicants’ sex would be identified and even which undergarments they would wear. The Trump administration previously said in legal papers that the armed forces were not prepared to train thousands of personnel on the medical standards needed to process transgender applicants and might have to accept “some individuals who are not medically fit for service.” The Obama administration had set a deadline of July 1, 2017, to begin accepting transgender recruits. But Trump’s defense secretary, James Mattis, postponed that date to Jan. 1, 2018, which the president’s ban then put off indefinitely. Trump has taken other steps aimed at rolling back transgender rights. In October, his administration said a federal law banning gender-based workplace discrimination does not protect transgender employees, reversing another Obama-era position. In February, Trump rescinded guidance issued by the Obama administration saying that public schools should allow transgender students to use the restroom that corresponds to their gender identity. ",
         "politicsNews",
         "December 29, 2017 "
        ],
        [
         "2",
         "Senior U.S. Republican senator: 'Let Mr. Mueller do his job'",
         "WASHINGTON (Reuters) - The special counsel investigation of links between Russia and President Trump’s 2016 election campaign should continue without interference in 2018, despite calls from some Trump administration allies and Republican lawmakers to shut it down, a prominent Republican senator said on Sunday. Lindsey Graham, who serves on the Senate armed forces and judiciary committees, said Department of Justice Special Counsel Robert Mueller needs to carry on with his Russia investigation without political interference. “This investigation will go forward. It will be an investigation conducted without political influence,” Graham said on CBS’s Face the Nation news program. “And we all need to let Mr. Mueller do his job. I think he’s the right guy at the right time.”  The question of how Russia may have interfered in the election, and how Trump’s campaign may have had links with or co-ordinated any such effort, has loomed over the White House since Trump took office in January. It shows no sign of receding as Trump prepares for his second year in power, despite intensified rhetoric from some Trump allies in recent weeks accusing Mueller’s team of bias against the Republican president. Trump himself seemed to undercut his supporters in an interview last week with the New York Times in which he said he expected Mueller was “going to be fair.”    Russia’s role in the election and the question of possible links to the Trump campaign are the focus of multiple inquiries in Washington. Three committees of the Senate and the House of Representatives are investigating, as well as Mueller, whose team in May took over an earlier probe launched by the U.S. Federal Bureau of Investigation (FBI). Several members of the Trump campaign and administration have been convicted or indicted in the investigation.  Trump and his allies deny any collusion with Russia during the campaign, and the Kremlin has denied meddling in the election. Graham said he still wants an examination of the FBI’s use of a dossier on links between Trump and Russia that was compiled by a former British spy, Christopher Steele, which prompted Trump allies and some Republicans to question Mueller’s inquiry.   On Saturday, the New York Times reported that it was not that dossier that triggered an early FBI probe, but a tip from former Trump campaign foreign policy adviser George Papadopoulos to an Australian diplomat that Russia had damaging information about former Trump rival Hillary Clinton.  “I want somebody to look at the way the Department of Justice used this dossier. It bothers me greatly the way they used it, and I want somebody to look at it,” Graham said. But he said the Russia investigation must continue. “As a matter of fact, it would hurt us if we ignored it,” he said. ",
         "politicsNews",
         "December 31, 2017 "
        ],
        [
         "3",
         "FBI Russia probe helped by Australian diplomat tip-off: NYT",
         "WASHINGTON (Reuters) - Trump campaign adviser George Papadopoulos told an Australian diplomat in May 2016 that Russia had political dirt on Democratic presidential candidate Hillary Clinton, the New York Times reported on Saturday. The conversation between Papadopoulos and the diplomat, Alexander Downer, in London was a driving factor behind the FBI’s decision to open a counter-intelligence investigation of Moscow’s contacts with the Trump campaign, the Times reported. Two months after the meeting, Australian officials passed the information that came from Papadopoulos to their American counterparts when leaked Democratic emails began appearing online, according to the newspaper, which cited four current and former U.S. and foreign officials. Besides the information from the Australians, the probe by the Federal Bureau of Investigation was also propelled by intelligence from other friendly governments, including the British and Dutch, the Times said. Papadopoulos, a Chicago-based international energy lawyer, pleaded guilty on Oct. 30 to lying to FBI agents about contacts with people who claimed to have ties to top Russian officials. It was the first criminal charge alleging links between the Trump campaign and Russia. The White House has played down the former aide’s campaign role, saying it was “extremely limited” and that any actions he took would have been on his own. The New York Times, however, reported that Papadopoulos helped set up a meeting between then-candidate Donald Trump and Egyptian President Abdel Fattah al-Sisi and edited the outline of Trump’s first major foreign policy speech in April 2016. The federal investigation, which is now being led by Special Counsel Robert Mueller, has hung over Trump’s White House since he took office almost a year ago. Some Trump allies have recently accused Mueller’s team of being biased against the Republican president. Lawyers for Papadopoulos did not immediately respond to requests by Reuters for comment. Mueller’s office declined to comment. Trump’s White House attorney, Ty Cobb, declined to comment on the New York Times report. “Out of respect for the special counsel and his process, we are not commenting on matters such as this,” he said in a statement. Mueller has charged four Trump associates, including Papadopoulos, in his investigation. Russia has denied interfering in the U.S. election and Trump has said there was no collusion between his campaign and Moscow. ",
         "politicsNews",
         "December 30, 2017 "
        ],
        [
         "4",
         "Trump wants Postal Service to charge 'much more' for Amazon shipments",
         "SEATTLE/WASHINGTON (Reuters) - President Donald Trump called on the U.S. Postal Service on Friday to charge “much more” to ship packages for Amazon (AMZN.O), picking another fight with an online retail giant he has criticized in the past.     “Why is the United States Post Office, which is losing many billions of dollars a year, while charging Amazon and others so little to deliver their packages, making Amazon richer and the Post Office dumber and poorer? Should be charging MUCH MORE!” Trump wrote on Twitter.  The president’s tweet drew fresh attention to the fragile finances of the Postal Service at a time when tens of millions of parcels have just been shipped all over the country for the holiday season.  The U.S. Postal Service, which runs at a big loss, is an independent agency within the federal government and does not receive tax dollars for operating expenses, according to its website.  Package delivery has become an increasingly important part of its business as the Internet has led to a sharp decline in the amount of first-class letters. The president does not determine postal rates. They are set by the Postal Regulatory Commission, an independent government agency with commissioners selected by the president from both political parties. That panel raised prices on packages by almost 2 percent in November.  Amazon was founded by Jeff Bezos, who remains the chief executive officer of the retail company and is the richest person in the world, according to Bloomberg News. Bezos also owns The Washington Post, a newspaper Trump has repeatedly railed against in his criticisms of the news media. In tweets over the past year, Trump has said the “Amazon Washington Post” fabricated stories. He has said Amazon does not pay sales tax, which is not true, and so hurts other retailers, part of a pattern by the former businessman and reality television host of periodically turning his ire on big American companies since he took office in January. Daniel Ives, a research analyst at GBH Insights, said Trump’s comment could be taken as a warning to the retail giant. However, he said he was not concerned for Amazon. “We do not see any price hikes in the future. However, that is a risk that Amazon is clearly aware of and (it) is building out its distribution (system) aggressively,” he said. Amazon has shown interest in the past in shifting into its own delivery service, including testing drones for deliveries. In 2015, the company spent $11.5 billion on shipping, 46 percent of its total operating expenses that year.  Amazon shares were down 0.86 percent to $1,175.90 by early afternoon. Overall, U.S. stock prices were down slightly on Friday.  Satish Jindel, president of ShipMatrix Inc, which analyzes shipping data, disputed the idea that the Postal Service charges less than United Parcel Service Inc (UPS.N) and FedEx Corp (FDX.N), the other biggest players in the parcel delivery business in the United States. Many customers get lower rates from UPS and FedEx than they would get from the post office for comparable services, he said. The Postal Service delivers about 62 percent of Amazon packages, for about 3.5 to 4 million a day during the current peak year-end holiday shipping season, Jindel said. The Seattle-based company and the post office have an agreement in which mail carriers take Amazon packages on the last leg of their journeys, from post offices to customers’ doorsteps. Amazon’s No. 2 carrier is UPS, at 21 percent, and FedEx is third, with 8 percent or so, according to Jindel. Trump’s comment tapped into a debate over whether Postal Service pricing has kept pace with the rise of e-commerce, which has flooded the mail with small packages.Private companies like UPS have long claimed the current system unfairly undercuts their business. Steve Gaut, a spokesman for UPS, noted that the company values its “productive relationship” with the postal service, but that it has filed with the Postal Regulatory Commission its concerns about the postal service’s methods for covering costs. Representatives for Amazon, the White House, the U.S. Postal Service and FedEx declined comment or were not immediately available for comment on Trump’s tweet. According to its annual report, the Postal Service lost $2.74 billion this year, and its deficit has ballooned to $61.86 billion.  While the Postal Service’s revenue for first class mail, marketing mail and periodicals is flat or declining, revenue from package delivery is up 44 percent since 2014 to $19.5 billion in the fiscal year ended Sept. 30, 2017. But it also lost about $2 billion in revenue when a temporary surcharge expired in April 2016. According to a Government Accountability Office report in February, the service is facing growing personnel expenses, particularly $73.4 billion in unfunded pension and benefits liabilities. The Postal Service has not announced any plans to cut costs. By law, the Postal Service has to set prices for package delivery to cover the costs attributable to that service. But the postal service allocates only 5.5 percent of its total costs to its business of shipping packages even though that line of business is 28 percent of its total revenue. ",
         "politicsNews",
         "December 29, 2017 "
        ]
       ],
       "shape": {
        "columns": 4,
        "rows": 5
       }
      },
      "text/html": [
       "<div>\n",
       "<style scoped>\n",
       "    .dataframe tbody tr th:only-of-type {\n",
       "        vertical-align: middle;\n",
       "    }\n",
       "\n",
       "    .dataframe tbody tr th {\n",
       "        vertical-align: top;\n",
       "    }\n",
       "\n",
       "    .dataframe thead th {\n",
       "        text-align: right;\n",
       "    }\n",
       "</style>\n",
       "<table border=\"1\" class=\"dataframe\">\n",
       "  <thead>\n",
       "    <tr style=\"text-align: right;\">\n",
       "      <th></th>\n",
       "      <th>title</th>\n",
       "      <th>text</th>\n",
       "      <th>subject</th>\n",
       "      <th>date</th>\n",
       "    </tr>\n",
       "  </thead>\n",
       "  <tbody>\n",
       "    <tr>\n",
       "      <th>0</th>\n",
       "      <td>As U.S. budget fight looms, Republicans flip t...</td>\n",
       "      <td>WASHINGTON (Reuters) - The head of a conservat...</td>\n",
       "      <td>politicsNews</td>\n",
       "      <td>December 31, 2017</td>\n",
       "    </tr>\n",
       "    <tr>\n",
       "      <th>1</th>\n",
       "      <td>U.S. military to accept transgender recruits o...</td>\n",
       "      <td>WASHINGTON (Reuters) - Transgender people will...</td>\n",
       "      <td>politicsNews</td>\n",
       "      <td>December 29, 2017</td>\n",
       "    </tr>\n",
       "    <tr>\n",
       "      <th>2</th>\n",
       "      <td>Senior U.S. Republican senator: 'Let Mr. Muell...</td>\n",
       "      <td>WASHINGTON (Reuters) - The special counsel inv...</td>\n",
       "      <td>politicsNews</td>\n",
       "      <td>December 31, 2017</td>\n",
       "    </tr>\n",
       "    <tr>\n",
       "      <th>3</th>\n",
       "      <td>FBI Russia probe helped by Australian diplomat...</td>\n",
       "      <td>WASHINGTON (Reuters) - Trump campaign adviser ...</td>\n",
       "      <td>politicsNews</td>\n",
       "      <td>December 30, 2017</td>\n",
       "    </tr>\n",
       "    <tr>\n",
       "      <th>4</th>\n",
       "      <td>Trump wants Postal Service to charge 'much mor...</td>\n",
       "      <td>SEATTLE/WASHINGTON (Reuters) - President Donal...</td>\n",
       "      <td>politicsNews</td>\n",
       "      <td>December 29, 2017</td>\n",
       "    </tr>\n",
       "  </tbody>\n",
       "</table>\n",
       "</div>"
      ],
      "text/plain": [
       "                                               title  \\\n",
       "0  As U.S. budget fight looms, Republicans flip t...   \n",
       "1  U.S. military to accept transgender recruits o...   \n",
       "2  Senior U.S. Republican senator: 'Let Mr. Muell...   \n",
       "3  FBI Russia probe helped by Australian diplomat...   \n",
       "4  Trump wants Postal Service to charge 'much mor...   \n",
       "\n",
       "                                                text       subject  \\\n",
       "0  WASHINGTON (Reuters) - The head of a conservat...  politicsNews   \n",
       "1  WASHINGTON (Reuters) - Transgender people will...  politicsNews   \n",
       "2  WASHINGTON (Reuters) - The special counsel inv...  politicsNews   \n",
       "3  WASHINGTON (Reuters) - Trump campaign adviser ...  politicsNews   \n",
       "4  SEATTLE/WASHINGTON (Reuters) - President Donal...  politicsNews   \n",
       "\n",
       "                 date  \n",
       "0  December 31, 2017   \n",
       "1  December 29, 2017   \n",
       "2  December 31, 2017   \n",
       "3  December 30, 2017   \n",
       "4  December 29, 2017   "
      ]
     },
     "execution_count": 4,
     "metadata": {},
     "output_type": "execute_result"
    }
   ],
   "source": [
    "# Loading dataset\n",
    "df_true = pd.read_csv('data/True.csv')\n",
    "df_fake = pd.read_csv('data/Fake.csv')\n",
    "\n",
    "df_true.head()"
   ]
  },
  {
   "cell_type": "code",
   "execution_count": 25,
   "id": "4ef9dc7c",
   "metadata": {},
   "outputs": [
    {
     "data": {
      "text/plain": [
       "((21417, 4), (23481, 4))"
      ]
     },
     "execution_count": 25,
     "metadata": {},
     "output_type": "execute_result"
    }
   ],
   "source": [
    "df_true.shape, df_fake.shape"
   ]
  },
  {
   "cell_type": "code",
   "execution_count": 14,
   "id": "106406bb",
   "metadata": {},
   "outputs": [
    {
     "data": {
      "application/vnd.microsoft.datawrangler.viewer.v0+json": {
       "columns": [
        {
         "name": "index",
         "rawType": "int64",
         "type": "integer"
        },
        {
         "name": "title",
         "rawType": "object",
         "type": "string"
        },
        {
         "name": "text",
         "rawType": "object",
         "type": "string"
        },
        {
         "name": "subject",
         "rawType": "object",
         "type": "string"
        },
        {
         "name": "date",
         "rawType": "object",
         "type": "string"
        }
       ],
       "conversionMethod": "pd.DataFrame",
       "ref": "facf3ce4-3d9c-4dc5-8cf5-676dbce9dcf9",
       "rows": [
        [
         "2876",
         " Trump HUMILIATED By Presidential Historian’s Devastating Evaluation Of His First Days",
         "Trump s first few days in the White House have been tumultuous, and not just because he s so upset about his inauguration numbers being less-than record-setting that he had his press secretary flat-out lie about them. His aides have revealed that his thin skin is making things difficult, and because of that, presidential historian Douglas Brinkley has weighed in with something rather embarrassing for a man obsessed with numbers and image: [H]e can never let go and stop watching cable TV. Now he s off to the worst start of a presidency in a very long time.  [emphasis mine]The worst. In a very long time. Those are words Trump won t want to hear, seeing as how he thinks he is the best and has the best of absolutely everything. An expert calling him the worst at anything just burns.Brinkley believes Trump had a successful inauguration despite his numbers being lower than expected, and he should have built on that. However, given that he s so quick to anger when someone anyone makes him look bad to the world, he fixates on that instead of real issues and real work, and it s causing huge problems. Sources within the White House revealed that his aides have to control what information he s exposed to: One person who frequently talks to Trump said aides have to push back privately against his worst impulses in the White House, like the news conference idea, and have to control information that may infuriate him. He gets bored and likes to watch TV, this person said, so it is important to minimize that. Really? We have someone in our nation s highest office who gets bored easily and so he watches TV to, what, look for reports about how great he is? And then TV doesn t deliver, which pisses him off, and he goes off on tangents and people get frustrated. Even members of the GOP are floored by his behavior, like the news conference about his inaugural audience: It s surreal. We finally have the White House, and it s this. Yes, it s quite surreal that we have a narcissistic toddler in the White House.The Washington Post s Ashley Parker, Philip Rucker and Matea Gold said that, when he came back from his final inaugural event on Saturday, he turned on the TV, saw the Women s Marches, saw them protesting his presidency, and worst of all, saw that the protesting crowds appeared bigger than his own audience. So he got increasingly pissed off, and, seemingly on a whim, had Spicer give that press conference that was one lie after another, and culminated in Kellyanne Conway s  alternate facts  bullshit.And then Trump was unhappy with Spicer s  visuals    meaning he didn t like how Spicer appeared nervous, flubbed some of his words, wore a badly-fitting suit, and was apparently not forceful enough with the  lying press. Besides that, there are all the power struggles plaguing Trump s administration that are very reminiscent of the power struggles that plagued his campaign. Some are upset with his son-in-law, Jared Kushner, trying to shove anyone he sees as a threat to his position as a close adviser aside. Aides are unhappy that Kellyanne Conway can do what she wants, when she wants, because she s outside the official communications department. And the list goes on.The word  worst  is not in Trump s vocabulary when he s talking about himself. Brinkley, however, knows what s what and is apparently not afraid to say it.Featured image by Chip Somodevilla via Getty Images",
         "News",
         "January 24, 2017"
        ],
        [
         "15344",
         "FLASHBACK: SOMALI CAB DRIVER Threatens To Kill Man “Because You’re White”…History Of Repeatedly Threatening To Decapitate Police Officers",
         "Just so we have this straight a Somali cab driver had already repeatedly threatened to decapitate police officers earlier in the year, yet he may still be driving a cab? We re gonna go out on a limb here and speculate that this Somali cab driver is a muslim and further speculate that he may even be a racist A St. Louis cab driver faces hate crime charges after attacking a man and saying he was going to kill him  because you re white.  Mahad Abdinoor Abdi, from Somalia, threatened to decapitate police officers earlier this year.A renegade cab driver now faces hate crime charges after reportedly attacking a man for being white. Mahad Abdinoor Abdi is the same suspect we exposed in a FOX 2 report after witnesses said he threatened to decapitate police officers.  These are extremely rare charges because prosecutors say hate crimes can be very hard to prove. In this case, according to this probable cause statement, the victim reports that Abdi attacked him Wednesday only because the victim was white.The cab commission revoked his license after Abdi reportedly threatened to chop the heads off police officers. He is already facing assault charges for threats. Abdi now faces two hate crime charges   property damage and assault motivated by discrimination.Court documents say the victim did not know Abdi. He was sitting on the tailgate of his truck when Abdi put him in a headlock and said.  He wanted to kill the victim because (he) was white. In July, we followed Abdi for 45 minutes, in his unauthorized cab, and tipped off cab commission investigators we were following him. Based on our tip, they stopped him and stripped his cab plates.Abdi drove off that day, without plates, but with the unauthorized Wilson taxi logos remaining. It s unknown if he`s still driving that vehicle today. Via: Gateway PunditHere s a video of muslim nation immigrant advocate and Democrat Presidential candidate Joe Biden talking about his  great relations  with Somali immigrant cab drivers: ",
         "politics",
         "Aug 10, 2015"
        ],
        [
         "8452",
         " Bernie Sanders Just Got One Of The Most Important Endorsements Of His Campaign, So Far",
         "Bernie Sanders just picked up one of the most important endorsements of his campaign. No, it isn t a politician, pundit, or, celebrity. It is Eric Garner s eldest daughter, Erica Garner. She, like too many others, is a family member of one of the victims of police brutality, and the racism that drives it. Her father s death helped catalyze the Black Lives Matter movement. Erica Garner has since worked as an activist. She is the founder of the Garner Way Foundation.Garner s endorsement comes in the form of a powerful essay, published in the Washington Post. In the endorsement, she writes about her disillusionment with a system that has for so long been able to pretend that the life of her father, her own, and all people of color s lives have mattered.She writes that: If our lives really mattered, we d have equal access to decent jobs, good schools and affordable housing. If our lives mattered in this country, we d have equal access to clean air, clean water and real investment in black neighborhoods. If black lives mattered in America, those who routinely brutalize us wouldn t be the ones paid, with our tax dollars, to keep us safe.I trusted establishment Democrats who claimed to represent me, only to later watch them ignore and explain away the injustice of my father s death. I trusted the system; then I watched as politicians on both sides of the aisle   from Chicago s Democratic Mayor Rahm Emanuel to Michigan s Republican Gov. Rick Snyder   disregard the will of the people they were elected to represent and abdicate their responsibility to protect them. I ve watched as our system criminalizes blackness while allowing Wall Street to bilk the American people with impunity. Sanders has met with quit a few family members of family members of high-profile victims of anti-black state violence. After taking a tour of the neighborhood Freddie Gray lived in, Sanders was disturbed, if unsurprised, by the deplorable economic conditions that people survive in. Anyone who took the walk that we took around this neighborhood would not think you are in a wealthy nation. You would think you are in a third world country,  Sanders said after the tour.Then of course, there is the chance meeting with the mother and sister of Sandra Bland that occurred, and was not initially reported to the media, where Sanders promised to keep saying Bland s name. Sanders was the only candidate to say her name during the first Democratic debate. The lawyer for Walter Scott s family publicly endorsed Sanders.In her endorsement, Garner lays out who she think s will be the best candidate to serve black people, by saying: Who will address the criminalization of our people? Who understands that we re experiencing an economic crisis made worse by structural barriers to jobs and education? Who will bring us closer to real safety, freedom and power? Who has clearly shown us where they stand?The answer is someone who started this work well before campaign season, who understands our deaths as tragedies   not political talking points   and someone who will speak out against the wars being waged against our communities. Not someone who only pays attention to our concerns when it s time to collect our votes. Not someone who gives us bread crumbs and expects us to be full.Black Americans   all Americans   need a leader with a record that speaks for itself. And to me, it s clear. Of all the presidential candidates, Sen. Bernie Sanders is our strongest ally. Earlier in January, Eric Garner s mother, Gwen Carr, endorsed Hillary Clinton. Her endorsement was put our in the form of a press release by the Clinton campaign. In the press release, Carr writes: Hillary seems to be the only candidate right now who s talking about how we can be strategic in trying to solve this problem. That s why I m endorsing her for president. In contrast, Garner sees Sanders as similar to President Obama. She writes that President Obama was decried as being too extreme and too inexperienced. I remember another candidate who dared me to believe in hope and change. His opponents said he wasn t ready for leadership. They said he couldn t win. He said, Yes, we can.  And we did. I still believe we can. That s why I endorse Bernie Sanders for president. There has been a stark generational divide between Clinton and Sanders supporters, this divide between two different members of the Garner family fits that pattern and shouldn t shock anyone. Both candidates have had some trouble when it comes to racial justice issues. Sanders has had trouble recognizing the non-economic ways that violence is inflicted on people of color. Clinton, (somewhat unfairly) has had to distance herself between the policies that her husband, former president Bill Clinton, ushered in in the 1990 s. Those policies led to the dismantlement of welfare as it was known, and in some ways helped create our current era of mass incarceration. Both candidates have  put out criminal justice reform packages. Here is Clinton s and here is Sanders .For some, the idea that anyone who works within the current political system will truly be an ally for people of color may be seen as wishful thinking. The politics of any movement that built on a collection of diasporic communities can be hard to nail down. Black Lives Matter is no different. But one thing is for sure, for many the  black vote  is no longer a guarantee for the Democratic Party.  That isn t to say that people of color are jumping ship to vote for Republicans. However, with snake people, especially those in more radical activist communities, you have to earn people s votes, and support.  Garner feels that Sanders has earned the title of being people of color s  strongest ally.  That status has a lot to do with Sanders  reaction to criticism of his racial justice package.Whether that proves to be true or not, only time will tell. Regardless of who is the eventual nominee, the public must continue to work towards pushing candidates to do more than pay lip service to traditionally marginalized communities. Change does not always come easy, but it does come when people remain persistent that their communities matter. You can read Garner s full endorsement here.Featured Image Credit: Gage Skidmore via Flickr ",
         "News",
         "January 29, 2016"
        ],
        [
         "18867",
         "FLASHBACK VIDEO Shows Leftist Media Members Praising Use Of “Nuclear Option” To Confirm (LIBERAL) Supreme Court Justices",
         "With Senate Republicans poised to use the  nuclear option  to confirm Supreme Court nominee Neil Gorsuch, will the liberal media hypocritically accuse them of a power grab? In 2013, when then-Democratic Senate Majority Leader Harry Reid did basically the same thing, he was cheered on in the studios of MSNBC and CNN.Back then MSNBC s Chris Hayes hailed it as  an affirmative win for democracy,  while his colleague Rachel Maddow blurted  This is a huge freaking deal. This is like 3-inch headlines. This is like people who don t even care about politics really ought to care about this. Over on CNN, political analyst Paul Begala hailed the nakedly partisan maneuver by Reid as necessary, whining that Republicans had  so abused  the filibuster that Democrats  can t take it anymore.  And Begala s colleague Ron Brownstein approved of Reid s decision as a forward-thinking move:  The idea of requiring a super majority for the president to appoint his nominees just is anachronistic. But the cable network news hosts and analysts weren t the only ones championing the nuclear option. On the pages of the Los Angeles Times, Reid s move was celebrated in a November 22 editorial  Democrats bust the filibuster, and good for them. The Times editorial board crowed:  We welcome this action not because it represents a comeuppance for arrogant Republicans but because filibustering presidential nominees is undemocratic and violates the spirit if not the letter of the Constitution, which says that the president shall appoint judges and other officials  by and with the advice and consent of the Senate    not by and with a supermajority of the Senate.  The Times went on to call it  a victory not just for the Democrats but for good government.  Newsbusters",
         "left-news",
         "Apr 4, 2017"
        ],
        [
         "18114",
         "KATIE COURIC HITS NEW CAREER LOW: Asks Perfect Strangers CRINGEWORTHY Questions: “Do You Watch Porn?”…Asks Couple,”Have You Ever Cheated On Your Spouse?” [VIDEO]",
         "Katie Couric s career has been pretty much in a free fall since she left the Today Show to accept a job as the new host of the CBS News, after the disgraced ex-host Dan Rather, retired (not surprisingly) after he was caught using manufactured evidence to support a fake hit-piece designed to harm the credibility of President George W. Bush. Shortly after Katie failed miserably at her CBS News host gig, she was caught editing a documentary on gun violence that she used to help push her radical anti-gun agenda.Katie recently left Yahoo News where she had a less than spectacular career.  It now appears that the liberal hack  reporter  Katie Couric has now sunk to a new low. While it s impossible to imagine she could sink any lower, Couric has managed to slither under the bar with her new InStyle magazine gig.The questions Couric asked of perfect strangers weren t funny and they certainly weren t interesting. They were cringeworthy and very uncomfortable. One only needs to watch the interview to see how truly painful it was.Watch the cringeworthy interview here:",
         "left-news",
         "Aug 18, 2017"
        ]
       ],
       "shape": {
        "columns": 4,
        "rows": 5
       }
      },
      "text/html": [
       "<div>\n",
       "<style scoped>\n",
       "    .dataframe tbody tr th:only-of-type {\n",
       "        vertical-align: middle;\n",
       "    }\n",
       "\n",
       "    .dataframe tbody tr th {\n",
       "        vertical-align: top;\n",
       "    }\n",
       "\n",
       "    .dataframe thead th {\n",
       "        text-align: right;\n",
       "    }\n",
       "</style>\n",
       "<table border=\"1\" class=\"dataframe\">\n",
       "  <thead>\n",
       "    <tr style=\"text-align: right;\">\n",
       "      <th></th>\n",
       "      <th>title</th>\n",
       "      <th>text</th>\n",
       "      <th>subject</th>\n",
       "      <th>date</th>\n",
       "    </tr>\n",
       "  </thead>\n",
       "  <tbody>\n",
       "    <tr>\n",
       "      <th>2876</th>\n",
       "      <td>Trump HUMILIATED By Presidential Historian’s ...</td>\n",
       "      <td>Trump s first few days in the White House have...</td>\n",
       "      <td>News</td>\n",
       "      <td>January 24, 2017</td>\n",
       "    </tr>\n",
       "    <tr>\n",
       "      <th>15344</th>\n",
       "      <td>FLASHBACK: SOMALI CAB DRIVER Threatens To Kill...</td>\n",
       "      <td>Just so we have this straight a Somali cab dri...</td>\n",
       "      <td>politics</td>\n",
       "      <td>Aug 10, 2015</td>\n",
       "    </tr>\n",
       "    <tr>\n",
       "      <th>8452</th>\n",
       "      <td>Bernie Sanders Just Got One Of The Most Impor...</td>\n",
       "      <td>Bernie Sanders just picked up one of the most ...</td>\n",
       "      <td>News</td>\n",
       "      <td>January 29, 2016</td>\n",
       "    </tr>\n",
       "    <tr>\n",
       "      <th>18867</th>\n",
       "      <td>FLASHBACK VIDEO Shows Leftist Media Members Pr...</td>\n",
       "      <td>With Senate Republicans poised to use the  nuc...</td>\n",
       "      <td>left-news</td>\n",
       "      <td>Apr 4, 2017</td>\n",
       "    </tr>\n",
       "    <tr>\n",
       "      <th>18114</th>\n",
       "      <td>KATIE COURIC HITS NEW CAREER LOW: Asks Perfect...</td>\n",
       "      <td>Katie Couric s career has been pretty much in ...</td>\n",
       "      <td>left-news</td>\n",
       "      <td>Aug 18, 2017</td>\n",
       "    </tr>\n",
       "  </tbody>\n",
       "</table>\n",
       "</div>"
      ],
      "text/plain": [
       "                                                   title  \\\n",
       "2876    Trump HUMILIATED By Presidential Historian’s ...   \n",
       "15344  FLASHBACK: SOMALI CAB DRIVER Threatens To Kill...   \n",
       "8452    Bernie Sanders Just Got One Of The Most Impor...   \n",
       "18867  FLASHBACK VIDEO Shows Leftist Media Members Pr...   \n",
       "18114  KATIE COURIC HITS NEW CAREER LOW: Asks Perfect...   \n",
       "\n",
       "                                                    text    subject  \\\n",
       "2876   Trump s first few days in the White House have...       News   \n",
       "15344  Just so we have this straight a Somali cab dri...   politics   \n",
       "8452   Bernie Sanders just picked up one of the most ...       News   \n",
       "18867  With Senate Republicans poised to use the  nuc...  left-news   \n",
       "18114  Katie Couric s career has been pretty much in ...  left-news   \n",
       "\n",
       "                   date  \n",
       "2876   January 24, 2017  \n",
       "15344      Aug 10, 2015  \n",
       "8452   January 29, 2016  \n",
       "18867       Apr 4, 2017  \n",
       "18114      Aug 18, 2017  "
      ]
     },
     "execution_count": 14,
     "metadata": {},
     "output_type": "execute_result"
    }
   ],
   "source": [
    "df_fake.sample(5)"
   ]
  },
  {
   "cell_type": "code",
   "execution_count": 20,
   "id": "823cc18b",
   "metadata": {},
   "outputs": [
    {
     "data": {
      "application/vnd.microsoft.datawrangler.viewer.v0+json": {
       "columns": [
        {
         "name": "index",
         "rawType": "int64",
         "type": "integer"
        },
        {
         "name": "title",
         "rawType": "object",
         "type": "string"
        },
        {
         "name": "text",
         "rawType": "object",
         "type": "string"
        },
        {
         "name": "subject",
         "rawType": "object",
         "type": "string"
        },
        {
         "name": "date",
         "rawType": "object",
         "type": "string"
        }
       ],
       "conversionMethod": "pd.DataFrame",
       "ref": "384ed2b1-b0a4-4783-9c20-d8d52a304140",
       "rows": [
        [
         "18322",
         "Italian government gets economy bill through Senate despite friction",
         "ROME (Reuters) - The Italian parliament approved the government s latest economic forecasts on Wednesday, but the Senate vote exposed deep divisions on the political left that could complicate the drafting of the 2018 budget. Prime Minister Paolo Gentiloni s coalition won two votes in the upper house on the Treasury s Economic and Financial Document (DEF), even though parliamentarians with the leftist Mdp party walked out of one of the ballots. The Mdp was formed earlier this year following a schism in the Democratic Party (PD), with a small group of left-wingers accusing PD leader Matteo Renzi of shifting the ruling party too far to the right and shunning its Socialist roots. National elections are due in early 2018, and political jockeying is on the increase as Italy s myriad parties seek to establish clearly defined identities ahead of the vote. The Mdp, backed by former prime minister Massimo D Alema, is particularly anxious to put clear water between itself and Renzi s PD, seizing on the DEF to push its demands for more money to be spent on health care and job creation.  We have sent a political signal,  said Mdp senator Federico Fornaro. Gentiloni, who does not have a clearly defined majority in the upper house, was saved any embarrassment thanks to the backing of 12 Senators from the center-right ALA group, which is headed by Denis Verdini, previously close to former prime minister Silvio Berlusconi. Centre-left politicians said the Mdp was trying to smear Renzi by portraying him as a rightwinger.  The question of relations between the Mdp and the government is tied to its competition with the PD ahead of the elections,  said senior centrist politician Mario Catania.  The point is that the Mdp is following D Alema s line and pushing for the downfall of Renzi.  The government has to present its budget by Oct. 20, giving parliament until the end of the year to approve the package in what could be the last major act of the legislature. Gentiloni hopes to get the backing of the Mdp to guarantee smooth passage through both houses. The DEF hiked the 2018 growth forecast to 1.5 percent from a previous target of 1.0 percent, giving the Treasury room to present a more expansive budget than originally expected.  The health system is an area where we will weigh up measures to improve it and make it more efficient,  Economy Minister Pier Carlo Padoan told the Senate on Wednesday in an apparent nod to Mdp demands. ",
         "worldnews",
         "October 4, 2017 "
        ],
        [
         "21276",
         "U.N. nuclear watchdog opens uranium bank in Kazakhstan",
         "ASTANA (Reuters) - The International Atomic Energy Agency, the U.N. global nuclear watchdog, opened a uranium bank in Kazakhstan on Tuesday, a $150-million facility designed to discourage new nations from enriching the nuclear fuel. The Low Enriched Uranium (LEU) Bank in the city of Oskemen, in eastern Kazakhstan, will store up to 90 tonnes of the fuel, enough to power a large city for three years, and sell it to IAEA members if they are unable to procure it elsewhere.   The LEU Bank will serve as a last-resort mechanism to provide confidence to countries that they will be able to obtain LEU for the manufacture of fuel for nuclear power plants in the event of an unforeseen, non-commercial disruption to their supplies,  IAEA Director General Yukiya Amano said in a statement on Monday. Countries such as Iran have said they need enrichment facilities to ensure a steady supply of fuel for nuclear power plants, and the idea behind the bank is to make such supply available without domestic enrichment. Russia has operated a similar bank since 2010 but the one in Kazakhstan will be the first one fully owned and operated by the global nuclear watchdog.  By hosting the IAEA LEU bank, Kazakhstan has made another contribution to strengthening the global non-proliferation regime,  Kazakh President Nursultan Nazarbayev said as he handed Amano a symbolical key to the facility at a ceremony in the Kazakh capital, Astana.  I am confident that the IAEA LEU Bank will make a valuable contribution to international efforts to ensure the availability of fuel for nuclear power plants,  Amano said. The IAEA said in a statement it would begin buying uranium soon, with the aim to ship it to the bank next year. The project was funded by donors, including the United States, the European Union, Kuwait, the United Arab Emirates, Norway and the Nuclear Threat Initiative. ",
         "worldnews",
         "August 29, 2017 "
        ],
        [
         "11187",
         "Obama, Australia's Turnbull pledge more cooperation on counterterrorism",
         "WASHINGTON (Reuters) - U.S. President Barack Obama and Australian Prime Minister Malcolm Turnbull pledged on Tuesday to increase cooperation on counterterrorism and the fight against Islamic State. Obama praised Australia for its support in Afghanistan and thanked the prime minister for his country’s troops’ sacrifices around the world. “We’re going to talk about how we can strengthen our cooperation both in Syria and Iraq, the state of affairs in Afghanistan, but also countering violent extremism globally,” Obama told reporters in the Oval Office at the start of the meeting. “Australia will be a very important partner in that process,” he said. Turnbull said it was critical to improve efforts to fight Islamic State. “We have to constantly lift our game in the way we engage with and tackle these extremists, particularly ISIL - but there are many others - as they operate in the cyber sphere,” he said, referring to Islamic State with an acronym. “Archaic and barbaric though they may be, their use regrettably of the Internet is very sophisticated. And so I’m pleased that we’re going to be working on even closer collaboration there.” The two leaders also discussed their backing of the Trans-Pacific Partnership trade pact. “It is going to be good for our economy. It is going to be good for our workers and our businesses, and it reaffirms that in order for us to thrive in the 21st century ... it’s important for us to be making the rules in this region, and that’s exactly what TPP does,” Obama said. Turnbull congratulated Obama on the implementation of the Iran nuclear deal. ",
         "politicsNews",
         "January 19, 2016 "
        ],
        [
         "19906",
         "Guatemala Congress withdraws bill that cut anti-graft penalties",
         "GUATEMALA CITY (Reuters) - Guatemala s Congress on Friday repealed a controversial bill it had passed only two days earlier, which critics had blasted as a setback in the fight against political corruption. Prosecutors have accused President Jimmy Morales and the main political parties of illegal campaign financing, so opponents were outraged when Congress on Wednesday passed a  national emergency  decree to curb penalties for the offense. The legislation sought to make party accountants responsible for irregularities rather than party leaders. As public outcry mounted, Morales said on Thursday he was prepared to veto the legislation if it was against the nation s interest. Congress responded by announcing it would withdraw the bill.  A motion to repeal the bill passed on Friday afternoon with 130 votes in favor and none against in Guatemala s Congress, with 28 absentees. Earlier this week, the legislation had been approved by lawmakers with a vote of 105-19 in favor. Guatemalan lawmakers and anti-graft proponents have been locking horns in recent months.  U.N.-backed anti-graft body, the International Commission Against Impunity in Guatemala (CICIG), and Attorney General Thelma Aldana have accused Morales and political parties of using illicit financing in the 2015 election campaign and sought to impeach the president over the charge. However, Congress voted not to strip Morales of his immunity from prosecution earlier this month.  In August, Morales attempted to expel the head of the CICIG, veteran Colombian prosecutor Ivan Velasquez, from Guatemala. Instead the president was thwarted by the country s top court and came under a barrage of international criticism.  ",
         "worldnews",
         "September 15, 2017 "
        ],
        [
         "7234",
         "Trump adviser calls for tax reform as bipartisan 'jobs' bill",
         "WASHINGTON (Reuters) - A co-author of U.S. President-elect Donald Trump’s tax plan called on Congress Wednesday to pursue corporate tax reform as a bipartisan “jobs” bill that could finance a massive new infrastructure program while slashing business tax rates. Stephen Moore, a Heritage Foundation fellow who advised the Trump campaign, said he would recommend that Trump pursue tax reform along two tracks, by focusing on business taxes in his first 150 days and leaving the politically more challenging task of reforming individual taxes for later. Trump and Republicans in Congress are trying to hammer out a legislative agenda on tax reform. Moore, at a forum hosted by Politico, called for a plan that would attract Democratic support, suggesting an outcome that could deviate markedly from the House of Representatives blueprint promoted by Speaker Paul Ryan, a Republican. Trump’s proposal would reduce the official corporate tax rate to 15 percent from 35 percent, allow corporations to repatriate overseas profits at a 10 percent rate and reduce the top individual tax rate to 33 percent from 39.6 percent.   Moore estimated that the cuts would lead to a revenue loss of about $3 trillion over 10 years, for which Trump would compensate with spending cuts. But he said it would broaden the tax base by adding 1 percent of growth to the U.S. economy.   “That’s the plan: try to pass a tax cut ... and then make up the difference by cutting government spending,” he said. But some analysts warn of a bigger toll. The nonpartisan Tax Policy Center forecasts that the Trump plan would cause the federal debt to soar by $7 trillion over its first decade, including added interest costs and macroeconomic effects. Trump and Congress would be able to sell the legislation as a job creation bill by linking corporate tax reform to infrastructure spending, Moore said. The combination would also increase the chances of gaining support from Democrats, who have favored such a link. “I would label this a jobs bill,” Moore said. Moore estimated that taxing repatriated overseas corporate profits could raise $100 billion to $150 billion for infrastructure spending. U.S. corporations are estimated to have $2.6 trillion in profits stashed overseas. He spoke to House Republican whip Steve Scalise and other lawmakers on Tuesday about using reform to fund infrastructure.  “The disagreements, I think, on the Republican side of the aisle, are very easily reconcilable,” he said. ",
         "politicsNews",
         "November 16, 2016 "
        ]
       ],
       "shape": {
        "columns": 4,
        "rows": 5
       }
      },
      "text/html": [
       "<div>\n",
       "<style scoped>\n",
       "    .dataframe tbody tr th:only-of-type {\n",
       "        vertical-align: middle;\n",
       "    }\n",
       "\n",
       "    .dataframe tbody tr th {\n",
       "        vertical-align: top;\n",
       "    }\n",
       "\n",
       "    .dataframe thead th {\n",
       "        text-align: right;\n",
       "    }\n",
       "</style>\n",
       "<table border=\"1\" class=\"dataframe\">\n",
       "  <thead>\n",
       "    <tr style=\"text-align: right;\">\n",
       "      <th></th>\n",
       "      <th>title</th>\n",
       "      <th>text</th>\n",
       "      <th>subject</th>\n",
       "      <th>date</th>\n",
       "    </tr>\n",
       "  </thead>\n",
       "  <tbody>\n",
       "    <tr>\n",
       "      <th>18322</th>\n",
       "      <td>Italian government gets economy bill through S...</td>\n",
       "      <td>ROME (Reuters) - The Italian parliament approv...</td>\n",
       "      <td>worldnews</td>\n",
       "      <td>October 4, 2017</td>\n",
       "    </tr>\n",
       "    <tr>\n",
       "      <th>21276</th>\n",
       "      <td>U.N. nuclear watchdog opens uranium bank in Ka...</td>\n",
       "      <td>ASTANA (Reuters) - The International Atomic En...</td>\n",
       "      <td>worldnews</td>\n",
       "      <td>August 29, 2017</td>\n",
       "    </tr>\n",
       "    <tr>\n",
       "      <th>11187</th>\n",
       "      <td>Obama, Australia's Turnbull pledge more cooper...</td>\n",
       "      <td>WASHINGTON (Reuters) - U.S. President Barack O...</td>\n",
       "      <td>politicsNews</td>\n",
       "      <td>January 19, 2016</td>\n",
       "    </tr>\n",
       "    <tr>\n",
       "      <th>19906</th>\n",
       "      <td>Guatemala Congress withdraws bill that cut ant...</td>\n",
       "      <td>GUATEMALA CITY (Reuters) - Guatemala s Congres...</td>\n",
       "      <td>worldnews</td>\n",
       "      <td>September 15, 2017</td>\n",
       "    </tr>\n",
       "    <tr>\n",
       "      <th>7234</th>\n",
       "      <td>Trump adviser calls for tax reform as bipartis...</td>\n",
       "      <td>WASHINGTON (Reuters) - A co-author of U.S. Pre...</td>\n",
       "      <td>politicsNews</td>\n",
       "      <td>November 16, 2016</td>\n",
       "    </tr>\n",
       "  </tbody>\n",
       "</table>\n",
       "</div>"
      ],
      "text/plain": [
       "                                                   title  \\\n",
       "18322  Italian government gets economy bill through S...   \n",
       "21276  U.N. nuclear watchdog opens uranium bank in Ka...   \n",
       "11187  Obama, Australia's Turnbull pledge more cooper...   \n",
       "19906  Guatemala Congress withdraws bill that cut ant...   \n",
       "7234   Trump adviser calls for tax reform as bipartis...   \n",
       "\n",
       "                                                    text       subject  \\\n",
       "18322  ROME (Reuters) - The Italian parliament approv...     worldnews   \n",
       "21276  ASTANA (Reuters) - The International Atomic En...     worldnews   \n",
       "11187  WASHINGTON (Reuters) - U.S. President Barack O...  politicsNews   \n",
       "19906  GUATEMALA CITY (Reuters) - Guatemala s Congres...     worldnews   \n",
       "7234   WASHINGTON (Reuters) - A co-author of U.S. Pre...  politicsNews   \n",
       "\n",
       "                      date  \n",
       "18322     October 4, 2017   \n",
       "21276     August 29, 2017   \n",
       "11187    January 19, 2016   \n",
       "19906  September 15, 2017   \n",
       "7234    November 16, 2016   "
      ]
     },
     "execution_count": 20,
     "metadata": {},
     "output_type": "execute_result"
    }
   ],
   "source": [
    "df_true.sample(5)"
   ]
  },
  {
   "cell_type": "markdown",
   "id": "dac4f531",
   "metadata": {},
   "source": [
    "We observe that the true dataset contains a clearly identifiable body compared to the fake dataset, as it includes the source and city of the news. To effectively leverage the power of the LSTM model—or any other machine learning model—for this task, we need to remove this part from the true articles."
   ]
  },
  {
   "cell_type": "code",
   "execution_count": 22,
   "id": "2352bd0d",
   "metadata": {},
   "outputs": [],
   "source": [
    "def remove_intro(text):\n",
    "    # Remove everything from the beginning up to and including the first dash followed by a space\n",
    "    return re.sub(r'^.*?-\\s+', '', text)"
   ]
  },
  {
   "cell_type": "code",
   "execution_count": 23,
   "id": "55f79f9d",
   "metadata": {},
   "outputs": [
    {
     "data": {
      "application/vnd.microsoft.datawrangler.viewer.v0+json": {
       "columns": [
        {
         "name": "index",
         "rawType": "int64",
         "type": "integer"
        },
        {
         "name": "title",
         "rawType": "object",
         "type": "string"
        },
        {
         "name": "text",
         "rawType": "object",
         "type": "string"
        },
        {
         "name": "subject",
         "rawType": "object",
         "type": "string"
        },
        {
         "name": "date",
         "rawType": "object",
         "type": "string"
        }
       ],
       "conversionMethod": "pd.DataFrame",
       "ref": "ff003076-d385-45b9-879c-fecb1cc05cdf",
       "rows": [
        [
         "9059",
         "Man arrested at Trump rally said he wanted to shoot candidate: court papers",
         "A man arrested over the weekend trying to wrestle a gun from a police officer at a Las Vegas rally held by Republican presidential candidate Donald Trump told an investigator he wanted to kill the candidate, court papers showed on Monday. Michael Steven Sandford, who prosecutors described as a 19-year-old British national, was arrested on Saturday at the Treasure Island hotel in Las Vegas after trying to disarm the officer, according to Las Vegas police. According to court papers filed on Monday in federal court in Nevada, Sandford told a Secret Service agent he had driven to Las Vegas from California with the goal of shooting Trump. “Sandford claimed he had been attempting to kill Trump for about a year but decided to act on this occasion because he finally felt confident about trying it,” the court papers said. He was charged with committing an act of violence on restricted ground, Natalie Collins, a spokeswoman for the U.S. Attorney’s Office, said in an email. Sandford has not entered a plea and is scheduled to be in court for a preliminary hearing on July 5, Collins said. Sandford’s federal public defender, Heather Fraley, could not be immediately reached for comment. Sandford said he had been in the United States for a year and a half, the documents showed. The records said he had lived in Hoboken, New Jersey, after coming to the country. Court records said Sandford went to the Battlefield Vegas gun range last Friday to practice shooting, adding that he had never fired a gun before. While there, he fired 20 rounds from a Glock 9 mm handgun, the records said. Sandford told investigators that if he were “on the street tomorrow,” he would try again, the documents said. ",
         "politicsNews",
         "June 20, 2016 "
        ],
        [
         "4238",
         "Trump administration says no U.S. trading partners manipulate currency",
         "U.S. President Donald Trump’s administration declined to name any major trading partner as a currency manipulator in a highly anticipated report on Friday, backing away from a key Trump campaign promise to slap such a label on China. The semi-annual U.S. Treasury currency report did, however, keep China on a currency “monitoring list” despite a lower global current account surplus, citing China’s unusually large, bilateral trade surplus with the United States. Five other trading partners who were on last October’s monitoring list - Japan, South Korea, Taiwan, Germany and Switzerland - also remain on the list, ensuring that the Treasury would apply extra scrutiny to their foreign exchange and economic policies. The Treasury report recognized what many analysts have said over the past year, namely that China has recently intervened in foreign exchange markets to prop up the value of its yuan currency, not push it lower to make Chinese exports cheaper.  Foreign exchange experts told Reuters last week that a manipulator label was unlikely for Beijing. Trump, who on the campaign trail blamed China for “stealing” U.S. jobs and prosperity by cheapening its currency, repeatedly promised to label the country as a currency manipulator on “day one” of a Trump administration - a move that would require special negotiations and could lead to punitive duties and other action. The report did call out China’s past efforts to hold down the yuan’s value, saying this created a long-term “distortion” in the global trading system that “imposed significant and long-lasting hardship on American workers and companies.” The Treasury also warned that it will scrutinize China’s trade and currency practices very closely and called for faster opening of China’s economy to U.S. goods and services and a shift away from exports to more domestic consumption.    “China will need to demonstrate that its lack of intervention to resist appreciation over the last three years represents a durable policy shift by letting the RMB (yuan) rise with market forces once appreciation pressures resume,” the report said. The report shows the Trump administration is taking an approach to foreign exchange based on data rather than politics, said Nathan Sheets, a former U.S. Treasury under secretary for international affairs during the Obama administration. “This isn’t the report that Donald Trump had in mind on Nov. 8,” said Sheets, who is now with the Peterson Institute for International Economics in Washington. “But it lays out legitimate complaints. It’s a clear statement to the Chinese that they need progress.” The Treasury did not alter its three major thresholds for identifying currency manipulation put in place last year by the Obama administration: a bilateral trade surplus with the United States of $20 billion or more; a global current account surplus of more than 3 percent of gross domestic product, and persistent foreign exchange purchases equal to 2 percent of GDP over 12 months.  No countries were determined to have met all three of these criteria, but Japan, South Korea, Taiwan, Germany and Switzerland all met two of them. The Treasury warned Japan against resuming currency interventions, saying that these “should be reserved only to very exceptional circumstances with appropriate prior consultations, consistent with Japan’s G-7 and G-20 commitments.” (For graphic on currency manipulation, click tmsnrt.rs/2p7aUox) (Link to the Treasury report: bit.ly/2pgnNAm) ",
         "politicsNews",
         "April 14, 2017 "
        ],
        [
         "11412",
         "Bus drives into pedestrian underpass in Moscow, kills four: agencies",
         "A passenger bus swerved off course and drove into a busy pedestrian underpass in Moscow on Monday, killing at least four people, Russian news agencies reported. Video from the scene posted on social media showed a bus veering off the road and plunging down the steps of a pedestrian underpass, crushing several people beneath its wheels. The driver of the bus had been detained by police, agencies said, after he lost control of the vehicle. The incident occurred on one of the Russian capital s busiest roads near the Slavyansky Boulevard metro station. Monday was an ordinary working day in Russia where Orthodox Christmas will be celebrated on Jan. 7.  An unnamed emergency services source told the TASS news agency that the number of fatalities had risen to five people. There were also unconfirmed reports that some 15 people had been injured. The Interfax news agency said investigators were looking into whether the incident had occurred as a result of a technical fault with the bus. Ten ambulances, fire service personnel, and three medivac helicopters were on the scene, agencies reported. ",
         "worldnews",
         "December 25, 2017 "
        ],
        [
         "7587",
         "Kerry says confident on Philippines ties, hopes to visit again",
         "U.S. Secretary of State John Kerry said on Thursday he remained confident about the future of the U.S.-Philippines relationship despite “a difference here or there” and that he hoped to visit Manila again before leaving office. New Philippine President Rodrigo Duterte has thrown Manila’s long-standing alliance with Washington into question since taking office in June with a series of insults and threats to cut ties with the former colonial power. Speaking at a swearing-in ceremony for the new U.S. ambassador to the Philippines, Sung Kim, Kerry called the alliance between the two peoples “indelible.” Kerry recalled shared resistance to Japan in World War Two and noted that nearly 4 million people of Philippine descent live in the United States while almost a quarter of a million Americans live in the Philippines. “I am confident about the future of our bilateral relations, notwithstanding a difference here or there about one thing or another,” he said. Kerry did not mention Duterte by name but said all needed to have the wisdom to adjust to change brought about by democratic elections. He noted that Sung Kim had tackled “some really tough, complex challenges” in the past, given his previous assignments dealing with North Korea. Kerry said the United States and the Philippines would “continue to consult openly and honestly” and added: “I very much hope to visit there before leaving my term of office as secretary of state.” Kerry’s term officially ends on Jan. 20 after Tuesday’s U.S. presidential election, although he could be asked to stay on temporarily under the future administration.  He said he told Duterte on a visit to the Philippines in July of Washington’s “ironclad commitment to the sovereignty and independence and security of the Philippines.” “We will continue to cooperate in efforts to maintain peace and stability and to promote shared prosperity in the Asia Pacific,” Kerry said, adding that Washington would continue to help the Philippines in the event of national emergencies. Daniel Russel, the senior U.S. diplomat for East Asia, who visited the Philippines last month, conceded that the relationship was “going through a bit of a rough patch - some growing pains. “There been some name-calling coming out of Manila; some questions raised about what the future holds,” he told a news briefing. “But ... the deep, deep roots between the United States and the Philippines ... will over the long term ensure stability in the relationship.” Russel, an assistant secretary of state, said all the senior officials he met in Manila told him they saw value in continued defense cooperation and he was not aware of any action that had “significantly affected our ability to cooperate.” “I am not saying that can’t happen, but I hope it doesn’t,” he said. In his latest outburst, Duterte chided the United States on Wednesday for the halt of a planned sale of 26,000 rifles to his country, calling those behind the decision “fools” and “monkeys” and indicating he might turn to Russia and China instead.   ",
         "politicsNews",
         "November 3, 2016 "
        ],
        [
         "3134",
         "Trump lawyer says president not informed he is under investigation",
         "One of President Donald Trump’s personal lawyers said in television interviews on Sunday that the president was not under investigation for obstruction of justice, but when pressed on the assertion, said he was not certain. “The fact of the matter is the president has not been and is not under investigation,” Jay Sekulow, a new member of Trump’s legal team, said on CBS’ “Face the Nation” in one of four interviews he gave on Sunday. There have been multiple news reports and a tweet from Trump himself on Friday that began with: “I am being investigated.” Challenged on “Fox News Sunday” about the issue, Sekulow said he could not be certain Trump was not under investigation but that no one had notified the legal team if that was the case.  It is common for subjects of federal investigations not to know they are under scrutiny, especially in the initial phases.  A source familiar with the Mueller probe said on Thursday that investigators would have to gather a large amount of evidence before an interview with the president would be warranted.  Trump, who has denied any collusion between his campaign and Russia, has frequently lashed out about the allegations, which have overshadowed his administration’s efforts to overhaul the healthcare system, cut taxes and boost jobs. Mueller, the special counsel named by the Justice Department to probe the Russia matter, is investigating whether anyone associated with Trump or his campaign had any illegal dealings with Russian officials or others with ties to the Kremlin. Russian officials have denied meddling in the U.S. election. The source familiar with the Mueller probe told Reuters that Mueller was also examining whether Trump or others tried to interfere with the investigation. Sekulow said that Trump, in his tweet, was reacting to a story in the Washington Post, which was the first to report  Mueller was examining whether Trump had tried to obstruct the probe by firing FBI Director James Comey in May. Sekulow acknowledged that he could not be certain that the report was false. “I cannot read the mind of the special prosecutor,” he said.  Peter Carr, a spokesman for the Mueller team, declined to comment. Sekulow, a conservative activist and radio talk-show host, earlier this month joined Trump’s legal team, which is led by Marc Kasowitz.  Sekulow has publicly criticized Comey, whom Trump fired.  In addition to being the author of several books such as “Undemocratic: How unelected, unaccountable bureaucrats are stealing your liberty and freedom,” Sekulow is the chief counsel for the American Center for Law and Justice, a politically conservative Christian organization. Barak Cohen, a former Justice Department lawyer and now a defense attorney specializing in white-collar crime and investigations, said there was no requirement that the special counsel notify Trump he was under investigation, so the lack of such notice meant nothing. He said, however, that Sekulow’s comments could mean the White House was taking the position that no investigation exists until Mueller’s team officially confirms it, disregarding media reports based on anonymous sourcing. Cohen said the first official communication that a target is under investigation typically comes when prosecutors begin requesting documents and other evidence. At that time, defense lawyers often will ask about their clients’ status. Prosecutors will often answer then to avoid misleading the target. They may not answer if they are trying to build a case and develop further evidence. “No answer is probably the most troubling answer in criminal defense,” Cohen said. ",
         "politicsNews",
         "June 18, 2017 "
        ]
       ],
       "shape": {
        "columns": 4,
        "rows": 5
       }
      },
      "text/html": [
       "<div>\n",
       "<style scoped>\n",
       "    .dataframe tbody tr th:only-of-type {\n",
       "        vertical-align: middle;\n",
       "    }\n",
       "\n",
       "    .dataframe tbody tr th {\n",
       "        vertical-align: top;\n",
       "    }\n",
       "\n",
       "    .dataframe thead th {\n",
       "        text-align: right;\n",
       "    }\n",
       "</style>\n",
       "<table border=\"1\" class=\"dataframe\">\n",
       "  <thead>\n",
       "    <tr style=\"text-align: right;\">\n",
       "      <th></th>\n",
       "      <th>title</th>\n",
       "      <th>text</th>\n",
       "      <th>subject</th>\n",
       "      <th>date</th>\n",
       "    </tr>\n",
       "  </thead>\n",
       "  <tbody>\n",
       "    <tr>\n",
       "      <th>9059</th>\n",
       "      <td>Man arrested at Trump rally said he wanted to ...</td>\n",
       "      <td>A man arrested over the weekend trying to wres...</td>\n",
       "      <td>politicsNews</td>\n",
       "      <td>June 20, 2016</td>\n",
       "    </tr>\n",
       "    <tr>\n",
       "      <th>4238</th>\n",
       "      <td>Trump administration says no U.S. trading part...</td>\n",
       "      <td>U.S. President Donald Trump’s administration d...</td>\n",
       "      <td>politicsNews</td>\n",
       "      <td>April 14, 2017</td>\n",
       "    </tr>\n",
       "    <tr>\n",
       "      <th>11412</th>\n",
       "      <td>Bus drives into pedestrian underpass in Moscow...</td>\n",
       "      <td>A passenger bus swerved off course and drove i...</td>\n",
       "      <td>worldnews</td>\n",
       "      <td>December 25, 2017</td>\n",
       "    </tr>\n",
       "    <tr>\n",
       "      <th>7587</th>\n",
       "      <td>Kerry says confident on Philippines ties, hope...</td>\n",
       "      <td>U.S. Secretary of State John Kerry said on Thu...</td>\n",
       "      <td>politicsNews</td>\n",
       "      <td>November 3, 2016</td>\n",
       "    </tr>\n",
       "    <tr>\n",
       "      <th>3134</th>\n",
       "      <td>Trump lawyer says president not informed he is...</td>\n",
       "      <td>One of President Donald Trump’s personal lawye...</td>\n",
       "      <td>politicsNews</td>\n",
       "      <td>June 18, 2017</td>\n",
       "    </tr>\n",
       "  </tbody>\n",
       "</table>\n",
       "</div>"
      ],
      "text/plain": [
       "                                                   title  \\\n",
       "9059   Man arrested at Trump rally said he wanted to ...   \n",
       "4238   Trump administration says no U.S. trading part...   \n",
       "11412  Bus drives into pedestrian underpass in Moscow...   \n",
       "7587   Kerry says confident on Philippines ties, hope...   \n",
       "3134   Trump lawyer says president not informed he is...   \n",
       "\n",
       "                                                    text       subject  \\\n",
       "9059   A man arrested over the weekend trying to wres...  politicsNews   \n",
       "4238   U.S. President Donald Trump’s administration d...  politicsNews   \n",
       "11412  A passenger bus swerved off course and drove i...     worldnews   \n",
       "7587   U.S. Secretary of State John Kerry said on Thu...  politicsNews   \n",
       "3134   One of President Donald Trump’s personal lawye...  politicsNews   \n",
       "\n",
       "                     date  \n",
       "9059       June 20, 2016   \n",
       "4238      April 14, 2017   \n",
       "11412  December 25, 2017   \n",
       "7587    November 3, 2016   \n",
       "3134       June 18, 2017   "
      ]
     },
     "execution_count": 23,
     "metadata": {},
     "output_type": "execute_result"
    }
   ],
   "source": [
    "df_true['text'] = df_true['text'].apply(remove_intro)\n",
    "\n",
    "df_true.sample(5)"
   ]
  },
  {
   "cell_type": "markdown",
   "id": "686ad84d",
   "metadata": {},
   "source": [
    "Now, we can merge both datasets after adding a 'label' column."
   ]
  },
  {
   "cell_type": "code",
   "execution_count": 26,
   "id": "de14db34",
   "metadata": {},
   "outputs": [
    {
     "data": {
      "application/vnd.microsoft.datawrangler.viewer.v0+json": {
       "columns": [
        {
         "name": "index",
         "rawType": "int64",
         "type": "integer"
        },
        {
         "name": "title",
         "rawType": "object",
         "type": "string"
        },
        {
         "name": "text",
         "rawType": "object",
         "type": "string"
        },
        {
         "name": "subject",
         "rawType": "object",
         "type": "string"
        },
        {
         "name": "date",
         "rawType": "object",
         "type": "string"
        },
        {
         "name": "label",
         "rawType": "int64",
         "type": "integer"
        }
       ],
       "conversionMethod": "pd.DataFrame",
       "ref": "41e24c72-3909-4063-8d65-4fcfc08aebe0",
       "rows": [
        [
         "30455",
         " Cenk Uygur Rages At White Apathy After CPD Murders Black Teen (VIDEO)",
         "On December 26, the father of 19-year-old Quintonio LeGrier called the police in hopes that they would help him deal with a situation he felt unqualified to handle.During an interview with CNN, the teen s father said that after hearing his son bang on the door, he grabbed the phone and called the police,  because I wasn t equipped with being able to understand how to deal with my angry son at that time.  The grieving father went on to say,  I figured the police would know better how to handle an angry situation my teenage son was going through. During the call, LeGrier described his son s behavior as  a little bit agitated. Far from assisting LeGrier s family, Chicago police shot and killed both the teen and a neighbor, a 55-year-old grandmother whose name was Bettie Jones.Contrary to police statements, we know from witness statements that the officer who killed Quintonio LeGrier opened fire from outside the house, shooting him seven times, from a distance of at least 20 feet away. We also know police made no attempt to talk to the teen. Instead, witnesses say they opened fire  right away. LeGrier s father was still upstairs when his son was killed. His parents report that there are bullet holes in the front door of the family s home.The officer who pulled trigger, described as a former marine in his early twenties, whose name has not been released to the media, reportedly said, F , no, no, no. I thought he was lunging at me with the [baseball] bat. A neighbor who spoke to Mother Jones, identified as DeSean, also witnessed the murder of LeGrier s neighbor, Bettie Jones.One of the officers walked up the stairs and knocked. Then he ran back to the sidewalk and drew his gun  like he was in position to shoot. The officer didn t say anything when he knocked on the door, DeSean said. Jones opened the door a few minutes later, he recalled. When [Jones] opened that door she was like,  Whoa, whoa, whoa! Like,  Slow down wait, wait, wait!  That s what she meant.  He said there had been 15 or 20 seconds between when Jones opened the door and when the officer opened fire.Police have referred to this shooting as  an accident.  It s clear from witness statements that there was nothing accidental about it.The police knocked on her door. Waited for her to open, then immediately shot her dead.According to the Chicago Sun-Times,Larry Rogers Jr., an attorney for the Jones family, said police need to be held accountable for how they treated Jones  daughter. The insensitivity that was shown by the police after the shooting occurred is of extreme concern for the family. One of the daughters asked one of the police officers,  Why did you shoot my mother?  His response was  Your mother s dead. Get over it,  Rogers said Sunday. You know what s insensitive?  said attorney Sam Adam Jr., who also represents the Jones family, gesturing to the presence of Jones  two daughters, LaToya and LaTarsha Jones.  They could at least send someone to clean up their mother s blood the day after Christmas. When the doorbell rang, she answered the doorbell and shortly after that she was shot to death,  Adam said.No attempt was ever made by police or rescue workers to provide medical attention to the two victims.During an episode of The Young Turks, published on December 31, host Cenk Uygur expressed outrage over the killing and the apathy of white Americans, when it comes to brutal, officer-involved killings such as this one.Watch the video here, courtesy of The Young Turks on Facebook. // < ![CDATA[ // < ![CDATA[ // < ![CDATA[ (function(d, s, id) { var js, fjs = d.getElementsByTagName(s)[0]; if (d.getElementById(id)) return; js = d.createElement(s); js.id = id; js.src = \"//connect.facebook.net/en_US/sdk.js#xfbml=1&#038;version=v2.3\"; fjs.parentNode.insertBefore(js, fjs);}(document, 'script', 'facebook-jssdk')); // ]]&gt;Heartbroken Father Speaks Out After Cops Murder SonHeartbroken Father Speaks Out After Cops Murder SonPosted by The Young Turks on Thursday, December 31, 2015Following the death of her son, Janet Cooksey, Quintonio LeGrier s mother, asked a very important question during a December 27th press conference.  Who are we supposed to call? As Cenk Uygur points out in the video above, calling police for help is the last thing we should do if a family member is dealing with an emotional or mental health issue. Communities must come up with their own solutions to provide safe intervention services for families, that do not involve police.It seems one solution might be to organize community task forces, which would be made up of people who are trained to provide crisis intervention and mental health services to families. Community task forces could provide families with an alternative to police involvement, saving lives and preventing mentally ill family members from becoming victims of an unjust  justice  system, in which the only options are generally incarceration or execution.As TYT points out, people who are experiencing a mental health crisis are more likely to be killed by police than any other segment of the population.It s simply not safe to call police for help in the United States. It time for communities to come together to create alternatives that protect children and families in crisis, rather than causing them irreparable harm.As Uygur asks in the video,  What if this were your kid and not a Black kid? Our society can not continue to look the other way while our police brutally murder other human beings. We cannot keep blaming the victims of these Gestapo-style executions, while excusing and defending the officers that kill in cold blood.Featured image via Facebook",
         "News",
         "January 1, 2016",
         "0"
        ],
        [
         "5437",
         "U.S. secretaries Tillerson, Kelly to visit Mexico next week",
         "U.S. Secretary of State Rex Tillerson and Homeland Security head John Kelly will visit Mexico next Thursday, Mexico’s foreign ministry said on Wednesday. The officials will meet with various members of the Mexican government to continue the dialogue agreed upon when U.S. President Donald Trump and Mexican President Enrique Pena Nieto spoke by phone in January, the ministry said in a statement. ",
         "politicsNews",
         "February 15, 2017 ",
         "1"
        ],
        [
         "16286",
         "Islamic State shores up last stronghold on Syria-Iraq border",
         "Islamic State is building up its defenses in a pocket of territory on the Syrian-Iraqi frontier, the U.S.-led coalition said on Friday, in an anticipation of assaults by Syrian and Iraqi forces aiming to snuff out the jihadists  last stronghold.     Iraq launched an offensive on Thursday to capture the last Iraqi territory held by Islamic State, the areas of Rawa and al-Qaim, a town just over the border from the Syrian town of Albu Kamal, which is also held by the jihadists.  Right now, we are seeing the buildup of (IS) defenses in both al-Qaim and in Albu Kamal,  Colonel Ryan Dillon told Reuters by phone, adding that Islamic State s leadership had shifted to Albu Kamal from towns deeper into Syria. Albu Kamal is in the crosshairs of both the U.S.-led coalition and the Syrian government and its Iranian-backed militia allies. Pro-Damascus forces, who are also backed by the Russian air force, said on Thursday they would march on the town  having driven IS out of a base some 70 km (40 miles) away. Dillon said Albu Kamal was  definitely  a target for the coalition but said it would be up to the leadership of the coalition s Syrian allies, the Syrian Democratic Forces (SDF), to take the decision on a ground assault. The SDF s priority for now was to shore up its control over the al-Omar oil field, Syria s largest, which was captured from IS on Sunday, he said.  Right now, we have to consolidate that area in and around Omar oilfield and the area that led up to it to make sure that that area is secure, and then it ll be the SDF leadership decision if they can allocate the right resource to adequately push into Albu Kamal,  he said. Assisted by the coalition, the SDF is fighting IS on the eastern banks of the Euphrates, whereas the Syrian army and its allies, supported by Russian air power, is largely fighting on the western banks of the river. Dillon said IS fighters were now  much different fighters  from the ones the U.S.-led coalition fought leading up to the battle for Mosul, the Iraqi city recaptured from IS in June.  We have not seen this fight to the death that we saw in Mosul, and I think it is attributed much to their morale,  he said. ",
         "worldnews",
         "October 27, 2017 ",
         "1"
        ],
        [
         "9289",
         "U.S. lawmakers probe Fed cyber breaches, cite 'serious concerns'",
         "A U.S. congressional committee has launched an investigation into the Federal Reserve’s cyber security practices after a Reuters report revealed more than 50 cyber breaches at the U.S. central bank between 2011 and 2015. The House Committee on Science, Space and Technology on Friday sent a letter to Federal Reserve Chair Janet Yellen to express “serious concerns” over the central bank’s ability to protect sensitive financial information. The letter cited the Reuters report, which was based on heavily redacted internal Fed records obtained through a Freedom of Information Act request. The redacted records did not say who hacked the bank’s systems or whether they accessed sensitive information or stole money. “These reports raise serious concerns about the Federal Reserve’s cyber security posture, including its ability to prevent threats from compromising highly sensitive financial information housed on the agency’s systems,” said the letter, signed by House Science Committee Chairman Lamar Smith, a Texas Republican, and Barry Loudermilk, a Georgia Republican and chairman of the panel’s oversight subcommittee. A Fed spokesperson said the central bank had received the panel’s letter and “will respond to it.” The panel asked the Fed’s national cyber security team - the National Incident Response Team - to turn over all cyber incident reports in unredacted form from Jan. 1, 2009, to the present. It also asked for incident reports from the Fed’s local incident response teams. Global policymakers, regulators and financial institutions have become increasingly concerned about the security of the international banking system after a string of cyber attacks against banks in Bangladesh, Vietnam and elsewhere linked to fraudulent transaction messages sent across the global financial platform SWIFT. The probe into the Fed’s security practices followed a separate inquiry by the same committee into the Federal Reserve Bank of New York’s handling of the cyber theft of $81 million from one of its accounts held by the central bank of Bangladesh. The committee said it has jurisdiction over the Fed’s cyber security because the panel is tasked with oversight of the U.S. National Institute of Standards and Technology, an agency responsible for developing federal cyber security standards and guidelines, under a 2014 federal information technology law. The panel also requested a “detailed description of all confirmed cyber security incidents” from 2009 to the present, all documents and communications referring or relating to “higher impact cases” handled by the Fed’s NIRT team, all documents and communications with the Fed’s Office of Inspector General related to confirmed cyber incidents, and an organizational chart detailing the Fed’s top cyber security personnel. The committee requested a response to its inquiry by June 17. (Click here to read the letter: tmsnrt.rs/1VBXvSz) The Fed’s computer systems hold confidential information on discussions about monetary policy that drives financial markets. The central bank’s staff suspected hackers or spies were behind many of the breaches, the records obtained by Reuters show.  The Fed had declined to comment on the records, which represent only a slice of all cyber attacks on the central bank because they include only cases involving the Washington-based Board of Governors, a federal agency that is subject to public records laws. (For a graphic on the Fed security breaches, see: tmsnrt.rs/1TxSu8R) ",
         "politicsNews",
         "June 3, 2016 ",
         "1"
        ],
        [
         "44770",
         "EXPOSED: Facebook Blacklists Conservative News & Falsified ‘Black Lives Matter’ Trend",
         "21st Century Wire says Censorship is running rampant on the world s largest social media website.Watch a video of this report here:. Former Facebook workers have come out with shocking revelations that the social media giant is actively censoring conservative news topics and reports, while also falsifying its list of  trending  topics.The source says that workers routinely prevented stories about the right-wing CPAC gathering, Mitt Romney, Rand Paul, and other conservative topics from appearing in the highly-influential section, despite the fact that they were organically trending on the site.The workers were known as  news curators , and even actively  injected  news stories and reports into the trending list even when they were not organically popular enough to be included.Facebook claims that the site s news trends section  shows you topics that have recently become popular on Facebook , but these revelations mean that the section actually just reflects the personal biases of its owners and the institutional concerns of the corporation.The anonymous source said: Depending on who was on shift, things would be blacklisted or trending, I believe it had a chilling effect on conservative news, I d come on shift and I d discover that CPAC or Mitt Romney or Glenn Beck or popular conservative topics wouldn t be trending because either the curator didn t recognize the news topic or it was like they had a bias against Ted Cruz. The source kept an active log of the omissions, which included former IRS official Lois Lerner, who was accused by Republicans of inappropriately scrutinizing conservative groups; Wisconsin Gov. Scott Walker; popular conservative news aggregator the Drudge Report; Chris Kyle, the former Navy SEAL who was murdered in 2013; and former Fox News contributor Steven Crowder.Yet, while omissions are worrying, the scariest aspect of this story is how Facebook actively injects falsified trends into the news feeds of its one billion users. The corporation can fraudulently set not only a national, but international, conversation on a topic of its choosing and also skew its bias toward which ever way its owners lean.The source continued: Facebook got a lot of pressure about not having a trending topic for Black Lives Matter. They realized it was a problem, and they boosted it in the ordering. They gave it preference over other topics. When we injected it, everyone started saying,  Yeah, now I m seeing it as number one . The Black Lives Matter movement is widely credited as having originated from social media, but this suggests that its true origins lie elsewhere in the hands of very small group of elite  news curators  seeking to implement their own personal agenda in American politics.Facebook s response to these damning revelations is most definitely lacking: We take allegations of bias very seriously. Facebook is a platform for people and perspectives from across the political spectrum. Trending Topics shows you the popular topics and hashtags that are being talked about on Facebook. There are rigorous guidelines in place for the review team to ensure consistency and neutrality. These guidelines do not permit the suppression of political perspectives. Nor do they permit the prioritization of one viewpoint over another or one news outlet over another. These guidelines do not prohibit any news outlet from appearing in Trending Topics. READ MORE ON FACEBOOK S SCHEMING: 21st Century Wire Facebook Files",
         "Middle-east",
         "May 10, 2016",
         "0"
        ]
       ],
       "shape": {
        "columns": 5,
        "rows": 5
       }
      },
      "text/html": [
       "<div>\n",
       "<style scoped>\n",
       "    .dataframe tbody tr th:only-of-type {\n",
       "        vertical-align: middle;\n",
       "    }\n",
       "\n",
       "    .dataframe tbody tr th {\n",
       "        vertical-align: top;\n",
       "    }\n",
       "\n",
       "    .dataframe thead th {\n",
       "        text-align: right;\n",
       "    }\n",
       "</style>\n",
       "<table border=\"1\" class=\"dataframe\">\n",
       "  <thead>\n",
       "    <tr style=\"text-align: right;\">\n",
       "      <th></th>\n",
       "      <th>title</th>\n",
       "      <th>text</th>\n",
       "      <th>subject</th>\n",
       "      <th>date</th>\n",
       "      <th>label</th>\n",
       "    </tr>\n",
       "  </thead>\n",
       "  <tbody>\n",
       "    <tr>\n",
       "      <th>30455</th>\n",
       "      <td>Cenk Uygur Rages At White Apathy After CPD Mu...</td>\n",
       "      <td>On December 26, the father of 19-year-old Quin...</td>\n",
       "      <td>News</td>\n",
       "      <td>January 1, 2016</td>\n",
       "      <td>0</td>\n",
       "    </tr>\n",
       "    <tr>\n",
       "      <th>5437</th>\n",
       "      <td>U.S. secretaries Tillerson, Kelly to visit Mex...</td>\n",
       "      <td>U.S. Secretary of State Rex Tillerson and Home...</td>\n",
       "      <td>politicsNews</td>\n",
       "      <td>February 15, 2017</td>\n",
       "      <td>1</td>\n",
       "    </tr>\n",
       "    <tr>\n",
       "      <th>16286</th>\n",
       "      <td>Islamic State shores up last stronghold on Syr...</td>\n",
       "      <td>Islamic State is building up its defenses in a...</td>\n",
       "      <td>worldnews</td>\n",
       "      <td>October 27, 2017</td>\n",
       "      <td>1</td>\n",
       "    </tr>\n",
       "    <tr>\n",
       "      <th>9289</th>\n",
       "      <td>U.S. lawmakers probe Fed cyber breaches, cite ...</td>\n",
       "      <td>A U.S. congressional committee has launched an...</td>\n",
       "      <td>politicsNews</td>\n",
       "      <td>June 3, 2016</td>\n",
       "      <td>1</td>\n",
       "    </tr>\n",
       "    <tr>\n",
       "      <th>44770</th>\n",
       "      <td>EXPOSED: Facebook Blacklists Conservative News...</td>\n",
       "      <td>21st Century Wire says Censorship is running r...</td>\n",
       "      <td>Middle-east</td>\n",
       "      <td>May 10, 2016</td>\n",
       "      <td>0</td>\n",
       "    </tr>\n",
       "  </tbody>\n",
       "</table>\n",
       "</div>"
      ],
      "text/plain": [
       "                                                   title  \\\n",
       "30455   Cenk Uygur Rages At White Apathy After CPD Mu...   \n",
       "5437   U.S. secretaries Tillerson, Kelly to visit Mex...   \n",
       "16286  Islamic State shores up last stronghold on Syr...   \n",
       "9289   U.S. lawmakers probe Fed cyber breaches, cite ...   \n",
       "44770  EXPOSED: Facebook Blacklists Conservative News...   \n",
       "\n",
       "                                                    text       subject  \\\n",
       "30455  On December 26, the father of 19-year-old Quin...          News   \n",
       "5437   U.S. Secretary of State Rex Tillerson and Home...  politicsNews   \n",
       "16286  Islamic State is building up its defenses in a...     worldnews   \n",
       "9289   A U.S. congressional committee has launched an...  politicsNews   \n",
       "44770  21st Century Wire says Censorship is running r...   Middle-east   \n",
       "\n",
       "                     date  label  \n",
       "30455     January 1, 2016      0  \n",
       "5437   February 15, 2017       1  \n",
       "16286   October 27, 2017       1  \n",
       "9289        June 3, 2016       1  \n",
       "44770        May 10, 2016      0  "
      ]
     },
     "execution_count": 26,
     "metadata": {},
     "output_type": "execute_result"
    }
   ],
   "source": [
    "df_true['label'] = 1\n",
    "df_fake['label'] = 0\n",
    "\n",
    "df = pd.concat([df_true, df_fake], ignore_index=True)\n",
    "df.sample(5)"
   ]
  },
  {
   "cell_type": "code",
   "execution_count": 28,
   "id": "c96d558c",
   "metadata": {},
   "outputs": [
    {
     "data": {
      "text/plain": [
       "title      0\n",
       "text       0\n",
       "subject    0\n",
       "date       0\n",
       "label      0\n",
       "dtype: int64"
      ]
     },
     "execution_count": 28,
     "metadata": {},
     "output_type": "execute_result"
    }
   ],
   "source": [
    "# Check for null values\n",
    "df.isna().sum()"
   ]
  },
  {
   "cell_type": "markdown",
   "id": "33ca007d",
   "metadata": {},
   "source": [
    "Now, we create a unique column with clean text to be used for our model by merging the title and body of the articles."
   ]
  },
  {
   "cell_type": "code",
   "execution_count": 29,
   "id": "c24d6a8e",
   "metadata": {},
   "outputs": [],
   "source": [
    "def clean_and_merge(row):\n",
    "    # Merge title and text\n",
    "    full_text = f\"{row['title']} {row['text']}\"\n",
    "    # Lowercase\n",
    "    full_text = full_text.lower()\n",
    "    # Remove special characters (keep letters, numbers, and spaces)\n",
    "    full_text = re.sub(r'[^a-z0-9\\s]', '', full_text)\n",
    "    return full_text"
   ]
  },
  {
   "cell_type": "code",
   "execution_count": 30,
   "id": "23a0057d",
   "metadata": {},
   "outputs": [
    {
     "data": {
      "application/vnd.microsoft.datawrangler.viewer.v0+json": {
       "columns": [
        {
         "name": "index",
         "rawType": "int64",
         "type": "integer"
        },
        {
         "name": "title",
         "rawType": "object",
         "type": "string"
        },
        {
         "name": "text",
         "rawType": "object",
         "type": "string"
        },
        {
         "name": "subject",
         "rawType": "object",
         "type": "string"
        },
        {
         "name": "date",
         "rawType": "object",
         "type": "string"
        },
        {
         "name": "label",
         "rawType": "int64",
         "type": "integer"
        },
        {
         "name": "full_text",
         "rawType": "object",
         "type": "string"
        }
       ],
       "conversionMethod": "pd.DataFrame",
       "ref": "78276148-587c-4076-8025-287bafd6fe77",
       "rows": [
        [
         "0",
         "As U.S. budget fight looms, Republicans flip their fiscal script",
         "The head of a conservative Republican faction in the U.S. Congress, who voted this month for a huge expansion of the national debt to pay for tax cuts, called himself a “fiscal conservative” on Sunday and urged budget restraint in 2018. In keeping with a sharp pivot under way among Republicans, U.S. Representative Mark Meadows, speaking on CBS’ “Face the Nation,” drew a hard line on federal spending, which lawmakers are bracing to do battle over in January. When they return from the holidays on Wednesday, lawmakers will begin trying to pass a federal budget in a fight likely to be linked to other issues, such as immigration policy, even as the November congressional election campaigns approach in which Republicans will seek to keep control of Congress. President Donald Trump and his Republicans want a big budget increase in military spending, while Democrats also want proportional increases for non-defense “discretionary” spending on programs that support education, scientific research, infrastructure, public health and environmental protection. “The (Trump) administration has already been willing to say: ‘We’re going to increase non-defense discretionary spending ... by about 7 percent,’” Meadows, chairman of the small but influential House Freedom Caucus, said on the program. “Now, Democrats are saying that’s not enough, we need to give the government a pay raise of 10 to 11 percent. For a fiscal conservative, I don’t see where the rationale is. ... Eventually you run out of other people’s money,” he said. Meadows was among Republicans who voted in late December for their party’s debt-financed tax overhaul, which is expected to balloon the federal budget deficit and add about $1.5 trillion over 10 years to the $20 trillion national debt. “It’s interesting to hear Mark talk about fiscal responsibility,” Democratic U.S. Representative Joseph Crowley said on CBS. Crowley said the Republican tax bill would require the  United States to borrow $1.5 trillion, to be paid off by future generations, to finance tax cuts for corporations and the rich. “This is one of the least ... fiscally responsible bills we’ve ever seen passed in the history of the House of Representatives. I think we’re going to be paying for this for many, many years to come,” Crowley said. Republicans insist the tax package, the biggest U.S. tax overhaul in more than 30 years,  will boost the economy and job growth. House Speaker Paul Ryan, who also supported the tax bill, recently went further than Meadows, making clear in a radio interview that welfare or “entitlement reform,” as the party often calls it, would be a top Republican priority in 2018. In Republican parlance, “entitlement” programs mean food stamps, housing assistance, Medicare and Medicaid health insurance for the elderly, poor and disabled, as well as other programs created by Washington to assist the needy. Democrats seized on Ryan’s early December remarks, saying they showed Republicans would try to pay for their tax overhaul by seeking spending cuts for social programs. But the goals of House Republicans may have to take a back seat to the Senate, where the votes of some Democrats will be needed to approve a budget and prevent a government shutdown. Democrats will use their leverage in the Senate, which Republicans narrowly control, to defend both discretionary non-defense programs and social spending, while tackling the issue of the “Dreamers,” people brought illegally to the country as children. Trump in September put a March 2018 expiration date on the Deferred Action for Childhood Arrivals, or DACA, program, which protects the young immigrants from deportation and provides them with work permits. The president has said in recent Twitter messages he wants funding for his proposed Mexican border wall and other immigration law changes in exchange for agreeing to help the Dreamers. Representative Debbie Dingell told CBS she did not favor linking that issue to other policy objectives, such as wall funding. “We need to do DACA clean,” she said.  On Wednesday, Trump aides will meet with congressional leaders to discuss those issues. That will be followed by a weekend of strategy sessions for Trump and Republican leaders on Jan. 6 and 7, the White House said. Trump was also scheduled to meet on Sunday with Florida Republican Governor Rick Scott, who wants more emergency aid. The House has passed an $81 billion aid package after hurricanes in Florida, Texas and Puerto Rico, and wildfires in California. The package far exceeded the $44 billion requested by the Trump administration. The Senate has not yet voted on the aid. ",
         "politicsNews",
         "December 31, 2017 ",
         "1",
         "as us budget fight looms republicans flip their fiscal script the head of a conservative republican faction in the us congress who voted this month for a huge expansion of the national debt to pay for tax cuts called himself a fiscal conservative on sunday and urged budget restraint in 2018 in keeping with a sharp pivot under way among republicans us representative mark meadows speaking on cbs face the nation drew a hard line on federal spending which lawmakers are bracing to do battle over in january when they return from the holidays on wednesday lawmakers will begin trying to pass a federal budget in a fight likely to be linked to other issues such as immigration policy even as the november congressional election campaigns approach in which republicans will seek to keep control of congress president donald trump and his republicans want a big budget increase in military spending while democrats also want proportional increases for nondefense discretionary spending on programs that support education scientific research infrastructure public health and environmental protection the trump administration has already been willing to say were going to increase nondefense discretionary spending  by about 7 percent meadows chairman of the small but influential house freedom caucus said on the program now democrats are saying thats not enough we need to give the government a pay raise of 10 to 11 percent for a fiscal conservative i dont see where the rationale is  eventually you run out of other peoples money he said meadows was among republicans who voted in late december for their partys debtfinanced tax overhaul which is expected to balloon the federal budget deficit and add about 15 trillion over 10 years to the 20 trillion national debt its interesting to hear mark talk about fiscal responsibility democratic us representative joseph crowley said on cbs crowley said the republican tax bill would require the  united states to borrow 15 trillion to be paid off by future generations to finance tax cuts for corporations and the rich this is one of the least  fiscally responsible bills weve ever seen passed in the history of the house of representatives i think were going to be paying for this for many many years to come crowley said republicans insist the tax package the biggest us tax overhaul in more than 30 years  will boost the economy and job growth house speaker paul ryan who also supported the tax bill recently went further than meadows making clear in a radio interview that welfare or entitlement reform as the party often calls it would be a top republican priority in 2018 in republican parlance entitlement programs mean food stamps housing assistance medicare and medicaid health insurance for the elderly poor and disabled as well as other programs created by washington to assist the needy democrats seized on ryans early december remarks saying they showed republicans would try to pay for their tax overhaul by seeking spending cuts for social programs but the goals of house republicans may have to take a back seat to the senate where the votes of some democrats will be needed to approve a budget and prevent a government shutdown democrats will use their leverage in the senate which republicans narrowly control to defend both discretionary nondefense programs and social spending while tackling the issue of the dreamers people brought illegally to the country as children trump in september put a march 2018 expiration date on the deferred action for childhood arrivals or daca program which protects the young immigrants from deportation and provides them with work permits the president has said in recent twitter messages he wants funding for his proposed mexican border wall and other immigration law changes in exchange for agreeing to help the dreamers representative debbie dingell told cbs she did not favor linking that issue to other policy objectives such as wall funding we need to do daca clean she said  on wednesday trump aides will meet with congressional leaders to discuss those issues that will be followed by a weekend of strategy sessions for trump and republican leaders on jan 6 and 7 the white house said trump was also scheduled to meet on sunday with florida republican governor rick scott who wants more emergency aid the house has passed an 81 billion aid package after hurricanes in florida texas and puerto rico and wildfires in california the package far exceeded the 44 billion requested by the trump administration the senate has not yet voted on the aid "
        ],
        [
         "1",
         "U.S. military to accept transgender recruits on Monday: Pentagon",
         "Transgender people will be allowed for the first time to enlist in the U.S. military starting on Monday as ordered by federal courts, the Pentagon said on Friday, after President Donald Trump’s administration decided not to appeal rulings that blocked his transgender ban. Two federal appeals courts, one in Washington and one in Virginia, last week rejected the administration’s request to put on hold orders by lower court judges requiring the military to begin accepting transgender recruits on Jan. 1. A Justice Department official said the administration will not challenge those rulings. “The Department of Defense has announced that it will be releasing an independent study of these issues in the coming weeks. So rather than litigate this interim appeal before that occurs, the administration has decided to wait for DOD’s study and will continue to defend the president’s lawful authority in District Court in the meantime,” the official said, speaking on condition of anonymity. In September, the Pentagon said it had created a panel of senior officials to study how to implement a directive by Trump to prohibit transgender individuals from serving. The Defense Department has until Feb. 21 to submit a plan to Trump. Lawyers representing currently-serving transgender service members and aspiring recruits said they had expected the administration to appeal the rulings to the conservative-majority Supreme Court, but were hoping that would not happen. Pentagon spokeswoman Heather Babb said in a statement: “As mandated by court order, the Department of Defense is prepared to begin accessing transgender applicants for military service Jan. 1. All applicants must meet all accession standards.” Jennifer Levi, a lawyer with gay, lesbian and transgender advocacy group GLAD, called the decision not to appeal “great news.” “I’m hoping it means the government has come to see that there is no way to justify a ban and that it’s not good for the military or our country,” Levi said. Both GLAD and the American Civil Liberties Union represent plaintiffs in the lawsuits filed against the administration. In a move that appealed to his hard-line conservative supporters, Trump announced in July that he would prohibit transgender people from serving in the military, reversing Democratic President Barack Obama’s policy of accepting them. Trump said on Twitter at the time that the military “cannot be burdened with the tremendous medical costs and disruption that transgender in the military would entail.” Four federal judges - in Baltimore, Washington, D.C., Seattle and Riverside, California - have issued rulings blocking Trump’s ban while legal challenges to the Republican president’s policy proceed. The judges said the ban would likely violate the right under the U.S. Constitution to equal protection under the law. The Pentagon on Dec. 8 issued guidelines to recruitment personnel in order to enlist transgender applicants by Jan. 1. The memo outlined medical requirements and specified how the applicants’ sex would be identified and even which undergarments they would wear. The Trump administration previously said in legal papers that the armed forces were not prepared to train thousands of personnel on the medical standards needed to process transgender applicants and might have to accept “some individuals who are not medically fit for service.” The Obama administration had set a deadline of July 1, 2017, to begin accepting transgender recruits. But Trump’s defense secretary, James Mattis, postponed that date to Jan. 1, 2018, which the president’s ban then put off indefinitely. Trump has taken other steps aimed at rolling back transgender rights. In October, his administration said a federal law banning gender-based workplace discrimination does not protect transgender employees, reversing another Obama-era position. In February, Trump rescinded guidance issued by the Obama administration saying that public schools should allow transgender students to use the restroom that corresponds to their gender identity. ",
         "politicsNews",
         "December 29, 2017 ",
         "1",
         "us military to accept transgender recruits on monday pentagon transgender people will be allowed for the first time to enlist in the us military starting on monday as ordered by federal courts the pentagon said on friday after president donald trumps administration decided not to appeal rulings that blocked his transgender ban two federal appeals courts one in washington and one in virginia last week rejected the administrations request to put on hold orders by lower court judges requiring the military to begin accepting transgender recruits on jan 1 a justice department official said the administration will not challenge those rulings the department of defense has announced that it will be releasing an independent study of these issues in the coming weeks so rather than litigate this interim appeal before that occurs the administration has decided to wait for dods study and will continue to defend the presidents lawful authority in district court in the meantime the official said speaking on condition of anonymity in september the pentagon said it had created a panel of senior officials to study how to implement a directive by trump to prohibit transgender individuals from serving the defense department has until feb 21 to submit a plan to trump lawyers representing currentlyserving transgender service members and aspiring recruits said they had expected the administration to appeal the rulings to the conservativemajority supreme court but were hoping that would not happen pentagon spokeswoman heather babb said in a statement as mandated by court order the department of defense is prepared to begin accessing transgender applicants for military service jan 1 all applicants must meet all accession standards jennifer levi a lawyer with gay lesbian and transgender advocacy group glad called the decision not to appeal great news im hoping it means the government has come to see that there is no way to justify a ban and that its not good for the military or our country levi said both glad and the american civil liberties union represent plaintiffs in the lawsuits filed against the administration in a move that appealed to his hardline conservative supporters trump announced in july that he would prohibit transgender people from serving in the military reversing democratic president barack obamas policy of accepting them trump said on twitter at the time that the military cannot be burdened with the tremendous medical costs and disruption that transgender in the military would entail four federal judges  in baltimore washington dc seattle and riverside california  have issued rulings blocking trumps ban while legal challenges to the republican presidents policy proceed the judges said the ban would likely violate the right under the us constitution to equal protection under the law the pentagon on dec 8 issued guidelines to recruitment personnel in order to enlist transgender applicants by jan 1 the memo outlined medical requirements and specified how the applicants sex would be identified and even which undergarments they would wear the trump administration previously said in legal papers that the armed forces were not prepared to train thousands of personnel on the medical standards needed to process transgender applicants and might have to accept some individuals who are not medically fit for service the obama administration had set a deadline of july 1 2017 to begin accepting transgender recruits but trumps defense secretary james mattis postponed that date to jan 1 2018 which the presidents ban then put off indefinitely trump has taken other steps aimed at rolling back transgender rights in october his administration said a federal law banning genderbased workplace discrimination does not protect transgender employees reversing another obamaera position in february trump rescinded guidance issued by the obama administration saying that public schools should allow transgender students to use the restroom that corresponds to their gender identity "
        ],
        [
         "2",
         "Senior U.S. Republican senator: 'Let Mr. Mueller do his job'",
         "The special counsel investigation of links between Russia and President Trump’s 2016 election campaign should continue without interference in 2018, despite calls from some Trump administration allies and Republican lawmakers to shut it down, a prominent Republican senator said on Sunday. Lindsey Graham, who serves on the Senate armed forces and judiciary committees, said Department of Justice Special Counsel Robert Mueller needs to carry on with his Russia investigation without political interference. “This investigation will go forward. It will be an investigation conducted without political influence,” Graham said on CBS’s Face the Nation news program. “And we all need to let Mr. Mueller do his job. I think he’s the right guy at the right time.”  The question of how Russia may have interfered in the election, and how Trump’s campaign may have had links with or co-ordinated any such effort, has loomed over the White House since Trump took office in January. It shows no sign of receding as Trump prepares for his second year in power, despite intensified rhetoric from some Trump allies in recent weeks accusing Mueller’s team of bias against the Republican president. Trump himself seemed to undercut his supporters in an interview last week with the New York Times in which he said he expected Mueller was “going to be fair.”    Russia’s role in the election and the question of possible links to the Trump campaign are the focus of multiple inquiries in Washington. Three committees of the Senate and the House of Representatives are investigating, as well as Mueller, whose team in May took over an earlier probe launched by the U.S. Federal Bureau of Investigation (FBI). Several members of the Trump campaign and administration have been convicted or indicted in the investigation.  Trump and his allies deny any collusion with Russia during the campaign, and the Kremlin has denied meddling in the election. Graham said he still wants an examination of the FBI’s use of a dossier on links between Trump and Russia that was compiled by a former British spy, Christopher Steele, which prompted Trump allies and some Republicans to question Mueller’s inquiry.   On Saturday, the New York Times reported that it was not that dossier that triggered an early FBI probe, but a tip from former Trump campaign foreign policy adviser George Papadopoulos to an Australian diplomat that Russia had damaging information about former Trump rival Hillary Clinton.  “I want somebody to look at the way the Department of Justice used this dossier. It bothers me greatly the way they used it, and I want somebody to look at it,” Graham said. But he said the Russia investigation must continue. “As a matter of fact, it would hurt us if we ignored it,” he said. ",
         "politicsNews",
         "December 31, 2017 ",
         "1",
         "senior us republican senator let mr mueller do his job the special counsel investigation of links between russia and president trumps 2016 election campaign should continue without interference in 2018 despite calls from some trump administration allies and republican lawmakers to shut it down a prominent republican senator said on sunday lindsey graham who serves on the senate armed forces and judiciary committees said department of justice special counsel robert mueller needs to carry on with his russia investigation without political interference this investigation will go forward it will be an investigation conducted without political influence graham said on cbss face the nation news program and we all need to let mr mueller do his job i think hes the right guy at the right time  the question of how russia may have interfered in the election and how trumps campaign may have had links with or coordinated any such effort has loomed over the white house since trump took office in january it shows no sign of receding as trump prepares for his second year in power despite intensified rhetoric from some trump allies in recent weeks accusing muellers team of bias against the republican president trump himself seemed to undercut his supporters in an interview last week with the new york times in which he said he expected mueller was going to be fair    russias role in the election and the question of possible links to the trump campaign are the focus of multiple inquiries in washington three committees of the senate and the house of representatives are investigating as well as mueller whose team in may took over an earlier probe launched by the us federal bureau of investigation fbi several members of the trump campaign and administration have been convicted or indicted in the investigation  trump and his allies deny any collusion with russia during the campaign and the kremlin has denied meddling in the election graham said he still wants an examination of the fbis use of a dossier on links between trump and russia that was compiled by a former british spy christopher steele which prompted trump allies and some republicans to question muellers inquiry   on saturday the new york times reported that it was not that dossier that triggered an early fbi probe but a tip from former trump campaign foreign policy adviser george papadopoulos to an australian diplomat that russia had damaging information about former trump rival hillary clinton  i want somebody to look at the way the department of justice used this dossier it bothers me greatly the way they used it and i want somebody to look at it graham said but he said the russia investigation must continue as a matter of fact it would hurt us if we ignored it he said "
        ],
        [
         "3",
         "FBI Russia probe helped by Australian diplomat tip-off: NYT",
         "Trump campaign adviser George Papadopoulos told an Australian diplomat in May 2016 that Russia had political dirt on Democratic presidential candidate Hillary Clinton, the New York Times reported on Saturday. The conversation between Papadopoulos and the diplomat, Alexander Downer, in London was a driving factor behind the FBI’s decision to open a counter-intelligence investigation of Moscow’s contacts with the Trump campaign, the Times reported. Two months after the meeting, Australian officials passed the information that came from Papadopoulos to their American counterparts when leaked Democratic emails began appearing online, according to the newspaper, which cited four current and former U.S. and foreign officials. Besides the information from the Australians, the probe by the Federal Bureau of Investigation was also propelled by intelligence from other friendly governments, including the British and Dutch, the Times said. Papadopoulos, a Chicago-based international energy lawyer, pleaded guilty on Oct. 30 to lying to FBI agents about contacts with people who claimed to have ties to top Russian officials. It was the first criminal charge alleging links between the Trump campaign and Russia. The White House has played down the former aide’s campaign role, saying it was “extremely limited” and that any actions he took would have been on his own. The New York Times, however, reported that Papadopoulos helped set up a meeting between then-candidate Donald Trump and Egyptian President Abdel Fattah al-Sisi and edited the outline of Trump’s first major foreign policy speech in April 2016. The federal investigation, which is now being led by Special Counsel Robert Mueller, has hung over Trump’s White House since he took office almost a year ago. Some Trump allies have recently accused Mueller’s team of being biased against the Republican president. Lawyers for Papadopoulos did not immediately respond to requests by Reuters for comment. Mueller’s office declined to comment. Trump’s White House attorney, Ty Cobb, declined to comment on the New York Times report. “Out of respect for the special counsel and his process, we are not commenting on matters such as this,” he said in a statement. Mueller has charged four Trump associates, including Papadopoulos, in his investigation. Russia has denied interfering in the U.S. election and Trump has said there was no collusion between his campaign and Moscow. ",
         "politicsNews",
         "December 30, 2017 ",
         "1",
         "fbi russia probe helped by australian diplomat tipoff nyt trump campaign adviser george papadopoulos told an australian diplomat in may 2016 that russia had political dirt on democratic presidential candidate hillary clinton the new york times reported on saturday the conversation between papadopoulos and the diplomat alexander downer in london was a driving factor behind the fbis decision to open a counterintelligence investigation of moscows contacts with the trump campaign the times reported two months after the meeting australian officials passed the information that came from papadopoulos to their american counterparts when leaked democratic emails began appearing online according to the newspaper which cited four current and former us and foreign officials besides the information from the australians the probe by the federal bureau of investigation was also propelled by intelligence from other friendly governments including the british and dutch the times said papadopoulos a chicagobased international energy lawyer pleaded guilty on oct 30 to lying to fbi agents about contacts with people who claimed to have ties to top russian officials it was the first criminal charge alleging links between the trump campaign and russia the white house has played down the former aides campaign role saying it was extremely limited and that any actions he took would have been on his own the new york times however reported that papadopoulos helped set up a meeting between thencandidate donald trump and egyptian president abdel fattah alsisi and edited the outline of trumps first major foreign policy speech in april 2016 the federal investigation which is now being led by special counsel robert mueller has hung over trumps white house since he took office almost a year ago some trump allies have recently accused muellers team of being biased against the republican president lawyers for papadopoulos did not immediately respond to requests by reuters for comment muellers office declined to comment trumps white house attorney ty cobb declined to comment on the new york times report out of respect for the special counsel and his process we are not commenting on matters such as this he said in a statement mueller has charged four trump associates including papadopoulos in his investigation russia has denied interfering in the us election and trump has said there was no collusion between his campaign and moscow "
        ],
        [
         "4",
         "Trump wants Postal Service to charge 'much more' for Amazon shipments",
         "President Donald Trump called on the U.S. Postal Service on Friday to charge “much more” to ship packages for Amazon (AMZN.O), picking another fight with an online retail giant he has criticized in the past.     “Why is the United States Post Office, which is losing many billions of dollars a year, while charging Amazon and others so little to deliver their packages, making Amazon richer and the Post Office dumber and poorer? Should be charging MUCH MORE!” Trump wrote on Twitter.  The president’s tweet drew fresh attention to the fragile finances of the Postal Service at a time when tens of millions of parcels have just been shipped all over the country for the holiday season.  The U.S. Postal Service, which runs at a big loss, is an independent agency within the federal government and does not receive tax dollars for operating expenses, according to its website.  Package delivery has become an increasingly important part of its business as the Internet has led to a sharp decline in the amount of first-class letters. The president does not determine postal rates. They are set by the Postal Regulatory Commission, an independent government agency with commissioners selected by the president from both political parties. That panel raised prices on packages by almost 2 percent in November.  Amazon was founded by Jeff Bezos, who remains the chief executive officer of the retail company and is the richest person in the world, according to Bloomberg News. Bezos also owns The Washington Post, a newspaper Trump has repeatedly railed against in his criticisms of the news media. In tweets over the past year, Trump has said the “Amazon Washington Post” fabricated stories. He has said Amazon does not pay sales tax, which is not true, and so hurts other retailers, part of a pattern by the former businessman and reality television host of periodically turning his ire on big American companies since he took office in January. Daniel Ives, a research analyst at GBH Insights, said Trump’s comment could be taken as a warning to the retail giant. However, he said he was not concerned for Amazon. “We do not see any price hikes in the future. However, that is a risk that Amazon is clearly aware of and (it) is building out its distribution (system) aggressively,” he said. Amazon has shown interest in the past in shifting into its own delivery service, including testing drones for deliveries. In 2015, the company spent $11.5 billion on shipping, 46 percent of its total operating expenses that year.  Amazon shares were down 0.86 percent to $1,175.90 by early afternoon. Overall, U.S. stock prices were down slightly on Friday.  Satish Jindel, president of ShipMatrix Inc, which analyzes shipping data, disputed the idea that the Postal Service charges less than United Parcel Service Inc (UPS.N) and FedEx Corp (FDX.N), the other biggest players in the parcel delivery business in the United States. Many customers get lower rates from UPS and FedEx than they would get from the post office for comparable services, he said. The Postal Service delivers about 62 percent of Amazon packages, for about 3.5 to 4 million a day during the current peak year-end holiday shipping season, Jindel said. The Seattle-based company and the post office have an agreement in which mail carriers take Amazon packages on the last leg of their journeys, from post offices to customers’ doorsteps. Amazon’s No. 2 carrier is UPS, at 21 percent, and FedEx is third, with 8 percent or so, according to Jindel. Trump’s comment tapped into a debate over whether Postal Service pricing has kept pace with the rise of e-commerce, which has flooded the mail with small packages.Private companies like UPS have long claimed the current system unfairly undercuts their business. Steve Gaut, a spokesman for UPS, noted that the company values its “productive relationship” with the postal service, but that it has filed with the Postal Regulatory Commission its concerns about the postal service’s methods for covering costs. Representatives for Amazon, the White House, the U.S. Postal Service and FedEx declined comment or were not immediately available for comment on Trump’s tweet. According to its annual report, the Postal Service lost $2.74 billion this year, and its deficit has ballooned to $61.86 billion.  While the Postal Service’s revenue for first class mail, marketing mail and periodicals is flat or declining, revenue from package delivery is up 44 percent since 2014 to $19.5 billion in the fiscal year ended Sept. 30, 2017. But it also lost about $2 billion in revenue when a temporary surcharge expired in April 2016. According to a Government Accountability Office report in February, the service is facing growing personnel expenses, particularly $73.4 billion in unfunded pension and benefits liabilities. The Postal Service has not announced any plans to cut costs. By law, the Postal Service has to set prices for package delivery to cover the costs attributable to that service. But the postal service allocates only 5.5 percent of its total costs to its business of shipping packages even though that line of business is 28 percent of its total revenue. ",
         "politicsNews",
         "December 29, 2017 ",
         "1",
         "trump wants postal service to charge much more for amazon shipments president donald trump called on the us postal service on friday to charge much more to ship packages for amazon amzno picking another fight with an online retail giant he has criticized in the past     why is the united states post office which is losing many billions of dollars a year while charging amazon and others so little to deliver their packages making amazon richer and the post office dumber and poorer should be charging much more trump wrote on twitter  the presidents tweet drew fresh attention to the fragile finances of the postal service at a time when tens of millions of parcels have just been shipped all over the country for the holiday season  the us postal service which runs at a big loss is an independent agency within the federal government and does not receive tax dollars for operating expenses according to its website  package delivery has become an increasingly important part of its business as the internet has led to a sharp decline in the amount of firstclass letters the president does not determine postal rates they are set by the postal regulatory commission an independent government agency with commissioners selected by the president from both political parties that panel raised prices on packages by almost 2 percent in november  amazon was founded by jeff bezos who remains the chief executive officer of the retail company and is the richest person in the world according to bloomberg news bezos also owns the washington post a newspaper trump has repeatedly railed against in his criticisms of the news media in tweets over the past year trump has said the amazon washington post fabricated stories he has said amazon does not pay sales tax which is not true and so hurts other retailers part of a pattern by the former businessman and reality television host of periodically turning his ire on big american companies since he took office in january daniel ives a research analyst at gbh insights said trumps comment could be taken as a warning to the retail giant however he said he was not concerned for amazon we do not see any price hikes in the future however that is a risk that amazon is clearly aware of and it is building out its distribution system aggressively he said amazon has shown interest in the past in shifting into its own delivery service including testing drones for deliveries in 2015 the company spent 115 billion on shipping 46 percent of its total operating expenses that year  amazon shares were down 086 percent to 117590 by early afternoon overall us stock prices were down slightly on friday  satish jindel president of shipmatrix inc which analyzes shipping data disputed the idea that the postal service charges less than united parcel service inc upsn and fedex corp fdxn the other biggest players in the parcel delivery business in the united states many customers get lower rates from ups and fedex than they would get from the post office for comparable services he said the postal service delivers about 62 percent of amazon packages for about 35 to 4 million a day during the current peak yearend holiday shipping season jindel said the seattlebased company and the post office have an agreement in which mail carriers take amazon packages on the last leg of their journeys from post offices to customers doorsteps amazons no 2 carrier is ups at 21 percent and fedex is third with 8 percent or so according to jindel trumps comment tapped into a debate over whether postal service pricing has kept pace with the rise of ecommerce which has flooded the mail with small packagesprivate companies like ups have long claimed the current system unfairly undercuts their business steve gaut a spokesman for ups noted that the company values its productive relationship with the postal service but that it has filed with the postal regulatory commission its concerns about the postal services methods for covering costs representatives for amazon the white house the us postal service and fedex declined comment or were not immediately available for comment on trumps tweet according to its annual report the postal service lost 274 billion this year and its deficit has ballooned to 6186 billion  while the postal services revenue for first class mail marketing mail and periodicals is flat or declining revenue from package delivery is up 44 percent since 2014 to 195 billion in the fiscal year ended sept 30 2017 but it also lost about 2 billion in revenue when a temporary surcharge expired in april 2016 according to a government accountability office report in february the service is facing growing personnel expenses particularly 734 billion in unfunded pension and benefits liabilities the postal service has not announced any plans to cut costs by law the postal service has to set prices for package delivery to cover the costs attributable to that service but the postal service allocates only 55 percent of its total costs to its business of shipping packages even though that line of business is 28 percent of its total revenue "
        ]
       ],
       "shape": {
        "columns": 6,
        "rows": 5
       }
      },
      "text/html": [
       "<div>\n",
       "<style scoped>\n",
       "    .dataframe tbody tr th:only-of-type {\n",
       "        vertical-align: middle;\n",
       "    }\n",
       "\n",
       "    .dataframe tbody tr th {\n",
       "        vertical-align: top;\n",
       "    }\n",
       "\n",
       "    .dataframe thead th {\n",
       "        text-align: right;\n",
       "    }\n",
       "</style>\n",
       "<table border=\"1\" class=\"dataframe\">\n",
       "  <thead>\n",
       "    <tr style=\"text-align: right;\">\n",
       "      <th></th>\n",
       "      <th>title</th>\n",
       "      <th>text</th>\n",
       "      <th>subject</th>\n",
       "      <th>date</th>\n",
       "      <th>label</th>\n",
       "      <th>full_text</th>\n",
       "    </tr>\n",
       "  </thead>\n",
       "  <tbody>\n",
       "    <tr>\n",
       "      <th>0</th>\n",
       "      <td>As U.S. budget fight looms, Republicans flip t...</td>\n",
       "      <td>The head of a conservative Republican faction ...</td>\n",
       "      <td>politicsNews</td>\n",
       "      <td>December 31, 2017</td>\n",
       "      <td>1</td>\n",
       "      <td>as us budget fight looms republicans flip thei...</td>\n",
       "    </tr>\n",
       "    <tr>\n",
       "      <th>1</th>\n",
       "      <td>U.S. military to accept transgender recruits o...</td>\n",
       "      <td>Transgender people will be allowed for the fir...</td>\n",
       "      <td>politicsNews</td>\n",
       "      <td>December 29, 2017</td>\n",
       "      <td>1</td>\n",
       "      <td>us military to accept transgender recruits on ...</td>\n",
       "    </tr>\n",
       "    <tr>\n",
       "      <th>2</th>\n",
       "      <td>Senior U.S. Republican senator: 'Let Mr. Muell...</td>\n",
       "      <td>The special counsel investigation of links bet...</td>\n",
       "      <td>politicsNews</td>\n",
       "      <td>December 31, 2017</td>\n",
       "      <td>1</td>\n",
       "      <td>senior us republican senator let mr mueller do...</td>\n",
       "    </tr>\n",
       "    <tr>\n",
       "      <th>3</th>\n",
       "      <td>FBI Russia probe helped by Australian diplomat...</td>\n",
       "      <td>Trump campaign adviser George Papadopoulos tol...</td>\n",
       "      <td>politicsNews</td>\n",
       "      <td>December 30, 2017</td>\n",
       "      <td>1</td>\n",
       "      <td>fbi russia probe helped by australian diplomat...</td>\n",
       "    </tr>\n",
       "    <tr>\n",
       "      <th>4</th>\n",
       "      <td>Trump wants Postal Service to charge 'much mor...</td>\n",
       "      <td>President Donald Trump called on the U.S. Post...</td>\n",
       "      <td>politicsNews</td>\n",
       "      <td>December 29, 2017</td>\n",
       "      <td>1</td>\n",
       "      <td>trump wants postal service to charge much more...</td>\n",
       "    </tr>\n",
       "  </tbody>\n",
       "</table>\n",
       "</div>"
      ],
      "text/plain": [
       "                                               title  \\\n",
       "0  As U.S. budget fight looms, Republicans flip t...   \n",
       "1  U.S. military to accept transgender recruits o...   \n",
       "2  Senior U.S. Republican senator: 'Let Mr. Muell...   \n",
       "3  FBI Russia probe helped by Australian diplomat...   \n",
       "4  Trump wants Postal Service to charge 'much mor...   \n",
       "\n",
       "                                                text       subject  \\\n",
       "0  The head of a conservative Republican faction ...  politicsNews   \n",
       "1  Transgender people will be allowed for the fir...  politicsNews   \n",
       "2  The special counsel investigation of links bet...  politicsNews   \n",
       "3  Trump campaign adviser George Papadopoulos tol...  politicsNews   \n",
       "4  President Donald Trump called on the U.S. Post...  politicsNews   \n",
       "\n",
       "                 date  label  \\\n",
       "0  December 31, 2017       1   \n",
       "1  December 29, 2017       1   \n",
       "2  December 31, 2017       1   \n",
       "3  December 30, 2017       1   \n",
       "4  December 29, 2017       1   \n",
       "\n",
       "                                           full_text  \n",
       "0  as us budget fight looms republicans flip thei...  \n",
       "1  us military to accept transgender recruits on ...  \n",
       "2  senior us republican senator let mr mueller do...  \n",
       "3  fbi russia probe helped by australian diplomat...  \n",
       "4  trump wants postal service to charge much more...  "
      ]
     },
     "execution_count": 30,
     "metadata": {},
     "output_type": "execute_result"
    }
   ],
   "source": [
    "df['full_text'] = df.apply(clean_and_merge, axis=1)\n",
    "\n",
    "df.head()"
   ]
  }
 ],
 "metadata": {
  "kernelspec": {
   "display_name": "Python 3",
   "language": "python",
   "name": "python3"
  },
  "language_info": {
   "codemirror_mode": {
    "name": "ipython",
    "version": 3
   },
   "file_extension": ".py",
   "mimetype": "text/x-python",
   "name": "python",
   "nbconvert_exporter": "python",
   "pygments_lexer": "ipython3",
   "version": "3.12.9"
  }
 },
 "nbformat": 4,
 "nbformat_minor": 5
}
